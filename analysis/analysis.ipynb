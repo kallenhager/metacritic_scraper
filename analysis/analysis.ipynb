{
  "cells": [
    {
      "cell_type": "markdown",
      "metadata": {
        "id": "view-in-github",
        "colab_type": "text"
      },
      "source": [
        "<a href=\"https://colab.research.google.com/github/kallenhager/metacritic_scraper/blob/main/analysis/analysis.ipynb\" target=\"_parent\"><img src=\"https://colab.research.google.com/assets/colab-badge.svg\" alt=\"Open In Colab\"/></a>"
      ]
    },
    {
      "cell_type": "markdown",
      "metadata": {
        "id": "A8l_aVxhDfpr"
      },
      "source": [
        "# Analysis"
      ]
    },
    {
      "cell_type": "markdown",
      "metadata": {
        "id": "qo7yqv4JDfpw"
      },
      "source": [
        "I scraped this data intending to answer the following questions for PC games:\n",
        "\n",
        "* **Do metacritic scores correlate with sales\\*?**\n",
        "    * Should a videogame publisher/developer pay attention to critic reviews?\n",
        "<BR>\n",
        "* **Which critic's scores correlate best with sales\\*?**\n",
        "    *  Specifically, which critics should a videogame publisher/developer pay attention to?\n",
        "\n",
        "\n",
        "*Note: I don't actually have sales data. Videogame sales figures are not pubically available. The total amount of reviews a game has on Steam is generally accepted as the best publically available proxy for PC game sales (https://vginsights.com/insights/article/how-to-estimate-steam-video-game-sales)."
      ]
    },
    {
      "cell_type": "markdown",
      "metadata": {
        "id": "gcW-7_nDDfp1"
      },
      "source": [
        "### Correlation Matrix (Python)"
      ]
    },
    {
      "cell_type": "markdown",
      "metadata": {
        "id": "ZaKalAO7Dfp1"
      },
      "source": [
        "Here I produced a Spearman correlation matrix using Pandas's .corr. The .corr method(?) ignores null values which is great for my data set."
      ]
    },
    {
      "cell_type": "code",
      "execution_count": null,
      "metadata": {
        "id": "yQt_jT5NDfp1"
      },
      "outputs": [],
      "source": [
        "import pandas as pd\n",
        "import plotnine\n",
        "from scipy.stats import spearmanr\n",
        "\n",
        "df = pd.read_csv('Metacritic_Steam_2021.csv', na_values=['tbd']) # user_score has some 'tbd's in it\n",
        "df_corr = df.corr(method='spearman')\n",
        "df_corr = df_corr.sort_values(by=['total_reviews'], ascending=False) # sort by correlation to total_reviews\n",
        "display(df_corr.head(n=7))\n",
        "display(df_corr.tail(n=15))"
      ]
    },
    {
      "cell_type": "markdown",
      "metadata": {
        "id": "8p5WF7tJDfp2"
      },
      "source": [
        "Got a correlation matrix, but this isn't really the form I need my data in since I'm going to take the correlations into R and put them into the cocor package to compare for a signicant difference. The cocor(zou2007) function needs each correlation  and observation count (n). Also, I want p-values to see if these correlations are even worth comparing. We can use sci.py's `spearmanr` function(?). "
      ]
    },
    {
      "cell_type": "code",
      "execution_count": null,
      "metadata": {
        "id": "yRhytMSADfp3",
        "outputId": "d154108e-cbda-41a4-b3ed-9102727d54c8"
      },
      "outputs": [
        {
          "name": "stderr",
          "output_type": "stream",
          "text": [
            "C:\\Users\\khage\\anaconda3\\lib\\site-packages\\scipy\\stats\\stats.py:4484: SpearmanRConstantInputWarning: An input array is constant; the correlation coefficient is not defined.\n"
          ]
        },
        {
          "data": {
            "text/html": [
              "<div>\n",
              "<style scoped>\n",
              "    .dataframe tbody tr th:only-of-type {\n",
              "        vertical-align: middle;\n",
              "    }\n",
              "\n",
              "    .dataframe tbody tr th {\n",
              "        vertical-align: top;\n",
              "    }\n",
              "\n",
              "    .dataframe thead th {\n",
              "        text-align: right;\n",
              "    }\n",
              "</style>\n",
              "<table border=\"1\" class=\"dataframe\">\n",
              "  <thead>\n",
              "    <tr style=\"text-align: right;\">\n",
              "      <th></th>\n",
              "      <th>variable</th>\n",
              "      <th>correlation</th>\n",
              "      <th>pvalue</th>\n",
              "      <th>n</th>\n",
              "    </tr>\n",
              "  </thead>\n",
              "  <tbody>\n",
              "    <tr>\n",
              "      <th>0</th>\n",
              "      <td>appid</td>\n",
              "      <td>-0.161779</td>\n",
              "      <td>7.076097e-03</td>\n",
              "      <td>276</td>\n",
              "    </tr>\n",
              "    <tr>\n",
              "      <th>1</th>\n",
              "      <td>pos_reviews</td>\n",
              "      <td>0.994981</td>\n",
              "      <td>5.778750e-276</td>\n",
              "      <td>276</td>\n",
              "    </tr>\n",
              "    <tr>\n",
              "      <th>2</th>\n",
              "      <td>neg_reviews</td>\n",
              "      <td>0.913155</td>\n",
              "      <td>8.504820e-109</td>\n",
              "      <td>276</td>\n",
              "    </tr>\n",
              "    <tr>\n",
              "      <th>3</th>\n",
              "      <td>rank</td>\n",
              "      <td>-0.386549</td>\n",
              "      <td>2.869959e-11</td>\n",
              "      <td>276</td>\n",
              "    </tr>\n",
              "    <tr>\n",
              "      <th>4</th>\n",
              "      <td>meta_score</td>\n",
              "      <td>0.386612</td>\n",
              "      <td>2.847250e-11</td>\n",
              "      <td>276</td>\n",
              "    </tr>\n",
              "    <tr>\n",
              "      <th>...</th>\n",
              "      <td>...</td>\n",
              "      <td>...</td>\n",
              "      <td>...</td>\n",
              "      <td>...</td>\n",
              "    </tr>\n",
              "    <tr>\n",
              "      <th>152</th>\n",
              "      <td>WellPlayed</td>\n",
              "      <td>0.416596</td>\n",
              "      <td>1.973749e-02</td>\n",
              "      <td>31</td>\n",
              "    </tr>\n",
              "    <tr>\n",
              "      <th>153</th>\n",
              "      <td>Windows Central</td>\n",
              "      <td>0.252563</td>\n",
              "      <td>2.037356e-01</td>\n",
              "      <td>27</td>\n",
              "    </tr>\n",
              "    <tr>\n",
              "      <th>154</th>\n",
              "      <td>Worth Playing</td>\n",
              "      <td>0.424994</td>\n",
              "      <td>3.238901e-03</td>\n",
              "      <td>46</td>\n",
              "    </tr>\n",
              "    <tr>\n",
              "      <th>155</th>\n",
              "      <td>XGN</td>\n",
              "      <td>0.492805</td>\n",
              "      <td>3.206326e-01</td>\n",
              "      <td>6</td>\n",
              "    </tr>\n",
              "    <tr>\n",
              "      <th>156</th>\n",
              "      <td>ZTGD</td>\n",
              "      <td>0.238598</td>\n",
              "      <td>4.113709e-01</td>\n",
              "      <td>14</td>\n",
              "    </tr>\n",
              "  </tbody>\n",
              "</table>\n",
              "<p>157 rows × 4 columns</p>\n",
              "</div>"
            ],
            "text/plain": [
              "            variable  correlation         pvalue    n\n",
              "0              appid    -0.161779   7.076097e-03  276\n",
              "1        pos_reviews     0.994981  5.778750e-276  276\n",
              "2        neg_reviews     0.913155  8.504820e-109  276\n",
              "3               rank    -0.386549   2.869959e-11  276\n",
              "4         meta_score     0.386612   2.847250e-11  276\n",
              "..               ...          ...            ...  ...\n",
              "152       WellPlayed     0.416596   1.973749e-02   31\n",
              "153  Windows Central     0.252563   2.037356e-01   27\n",
              "154    Worth Playing     0.424994   3.238901e-03   46\n",
              "155              XGN     0.492805   3.206326e-01    6\n",
              "156             ZTGD     0.238598   4.113709e-01   14\n",
              "\n",
              "[157 rows x 4 columns]"
            ]
          },
          "execution_count": 5,
          "metadata": {},
          "output_type": "execute_result"
        }
      ],
      "source": [
        "spearmanr_dict = {'variable':[], 'correlation':[], 'pvalue':[], 'n':[]} # create dictionary, which later we'll convert to Dataframe. \n",
        "for each_column in df.select_dtypes(exclude='object'):                  # for each column in df, excluding column with type 'object' (columnns conataining strings)\n",
        "    \n",
        "    series = df[each_column]                                            # df[] returns a series which contains a list (AKA array or matrix), matrix name (string), and a type it accepts\n",
        "    each_column = series.tolist()                                       # each column as a list to index down\n",
        "    total_reviews = df['total_reviews'].tolist()                        # total_reviews column as a list to index down\n",
        "    \n",
        "    if total_reviews == each_column:                                    # skip total_reviews * total_reviews correlation\n",
        "        continue\n",
        "\n",
        "    trimmed_total_reviews = []                                          # total_reviews has 276 values\n",
        "    trimmed_each_column = []                                            # but each critic only reviewed a handful of games, spearmanr needs lists of same length\n",
        "    for index in range(len(each_column)):                               # goes down each_column with index\n",
        "        if pd.notna(each_column[index]):                                # if each_column has a review (not NaN's)\n",
        "            trimmed_total_reviews.append(total_reviews[index])          # grab that games value in total_reviews\n",
        "            trimmed_each_column.append(each_column[index])              # grab that games value in each_column\n",
        "    \n",
        "    correlation, pvalue = spearmanr(trimmed_total_reviews, trimmed_each_column)\n",
        "    if pd.isna(correlation):                                            # don't add correlations that can't be computed (which creates NaN) due to small n\n",
        "        continue\n",
        "\n",
        "    spearmanr_dict['variable'].append(series.name)\n",
        "    spearmanr_dict['correlation'].append(correlation)\n",
        "    spearmanr_dict['pvalue'].append(pvalue)\n",
        "    spearmanr_dict['n'].append(len(trimmed_total_reviews))\n",
        "\n",
        "df_spearmanr = pd.DataFrame(spearmanr_dict)\n",
        "df_spearmanr"
      ]
    },
    {
      "cell_type": "markdown",
      "metadata": {
        "id": "Nmp90T56FSSj"
      },
      "source": [
        "### Google Colab (R)"
      ]
    },
    {
      "cell_type": "markdown",
      "metadata": {
        "id": "duU9H62KDszo"
      },
      "source": [
        "Need to use the `library(cocor)` from R, moving to Google Colab which lets one easily run R and Python in the same notebook"
      ]
    },
    {
      "cell_type": "markdown",
      "source": [
        "##### Import, Clean, Preliminary Analysis"
      ],
      "metadata": {
        "id": "7Fr7qHEACvOr"
      }
    },
    {
      "cell_type": "code",
      "execution_count": 6,
      "metadata": {
        "colab": {
          "base_uri": "https://localhost:8080/"
        },
        "id": "G70aCbwAEzF1",
        "outputId": "23300d15-9f6c-4d35-95dc-2ffbb6503d61"
      },
      "outputs": [
        {
          "output_type": "stream",
          "name": "stdout",
          "text": [
            "Mounted at /content/drive\n"
          ]
        }
      ],
      "source": [
        "from google.colab import drive\n",
        "drive.mount('/content/drive')\n",
        "# load this once to run R, then put '%%R' by itself at the beginning of each R block\n",
        "%load_ext rpy2.ipython "
      ]
    },
    {
      "cell_type": "code",
      "execution_count": null,
      "metadata": {
        "id": "EyBMMj4PD4rG"
      },
      "outputs": [],
      "source": [
        "%%R\n",
        "install.packages('cocor')\n",
        "library(tidyverse)\n",
        "library(cocor)\n",
        "library(knitr)"
      ]
    },
    {
      "cell_type": "code",
      "source": [
        "%%R\n",
        "df <- read.csv(file = 'drive/MyDrive/Colab Notebooks/metacritic_scraper/df_spearmanr.csv')\n",
        "df <- filter(df, pvalue < .05) %>%                                              # only significant values, sort by correlation\n",
        "  arrange(-correlation)\n",
        "\n",
        "df <- df[-c(2, 3, 45, 46),]                                                     # removed irrelevent columns pos_reviews, neg_reviews, and rank, appid\n",
        "rownames(df) <- NULL                                                            # reset index(row names)\n",
        "df"
      ],
      "metadata": {
        "id": "VoSmJovk_z-V",
        "outputId": "955b0a73-c052-42ca-c6e6-acac9bb9ac6e",
        "colab": {
          "base_uri": "https://localhost:8080/"
        }
      },
      "execution_count": 39,
      "outputs": [
        {
          "output_type": "stream",
          "name": "stdout",
          "text": [
            "            variable correlation       pvalue   n\n",
            "1                EGM   1.0000000 0.000000e+00   3\n",
            "2    Washington Post   0.8196886 4.583714e-02   6\n",
            "3         BaziCenter   0.6585395 3.840358e-02  10\n",
            "4          Game Rant   0.6442759 2.907041e-03  19\n",
            "5           Player 2   0.6085100 7.576676e-04  27\n",
            "6      Hooked Gamers   0.5408697 1.154574e-03  33\n",
            "7        Meristation   0.5337783 9.428026e-06  61\n",
            "8        Finger Guns   0.5105695 2.143100e-02  20\n",
            "9     Hardcore Gamer   0.5059294 5.951102e-05  57\n",
            "10          Gamersky   0.4977392 2.553432e-02  20\n",
            "11        IGN Italia   0.4953671 2.349815e-05  66\n",
            "12     Jeuxvideo.com   0.4678987 4.846886e-08 123\n",
            "13       GameCritics   0.4570950 8.911441e-05  68\n",
            "14         Millenium   0.4566809 1.103523e-03  48\n",
            "15       Everyeye.it   0.4443979 9.652410e-04  52\n",
            "16       Riot Pixels   0.4425910 1.288956e-03  50\n",
            "17         CD-Action   0.4309273 2.608244e-06 110\n",
            "18     Worth Playing   0.4249944 3.238901e-03  46\n",
            "19        WellPlayed   0.4165956 1.973749e-02  31\n",
            "20      Impulsegamer   0.4137837 1.211908e-02  36\n",
            "21               IGN   0.4131182 9.402256e-05  84\n",
            "22       Ragequit.gr   0.4050172 1.462701e-03  59\n",
            "23          Wccftech   0.4022146 2.570165e-03  54\n",
            "24      Gamer Escape   0.3896962 4.907558e-02  26\n",
            "25        meta_score   0.3866119 2.847250e-11 276\n",
            "26      COGconnected   0.3864614 4.349364e-04  79\n",
            "27         Softpedia   0.3660718 1.857894e-02  41\n",
            "28  New Game Network   0.3476699 2.075297e-02  44\n",
            "29       SpazioGames   0.3470870 8.164744e-03  57\n",
            "30          TheGamer   0.3448234 1.419348e-02  50\n",
            "31          PC Games   0.3423294 1.536160e-03  83\n",
            "32    Multiplayer.it   0.3348343 3.613033e-05 146\n",
            "33       GamingTrend   0.3219316 7.424583e-03  68\n",
            "34          GameStar   0.3123230 2.179484e-03  94\n",
            "35       PC Invasion   0.3072509 1.455884e-04 148\n",
            "36   Hey Poor Player   0.2918734 7.061958e-03  84\n",
            "37         Shacknews   0.2758500 3.960669e-02  56\n",
            "38      TheSixthAxis   0.2688698 2.780244e-02  67\n",
            "39 The Games Machine   0.2625260 1.294012e-02  89\n",
            "40       Noisy Pixel   0.2569171 1.450769e-02  90\n",
            "41   Eurogamer Italy   0.2476513 2.677223e-02  80\n",
            "42 Checkpoint Gaming   0.2475964 2.584353e-02  81\n",
            "43   Game Revolution  -0.6061994 2.807403e-02  13\n"
          ]
        }
      ]
    },
    {
      "cell_type": "markdown",
      "metadata": {
        "id": "bPONQ6C7KiZN"
      },
      "source": [
        "Findings so far: \n",
        "* the correlation between **user_score** and total_reviews was not signficant(p < .05)\n",
        "* **Electronic Gaming Montly (EGM)** reviews have perfect correlation of 1, but that throws and error in cocor, and the n was only 3, so it is excluded from the final analysis, but still noteworthy\n",
        "* **Game Revolution** reviews have a significant negative correlation with total_reviews. As a publisher, do that opposite of what they suggest."
      ]
    },
    {
      "cell_type": "code",
      "source": [
        "%%R\n",
        "df <- filter(df, correlation < 1)                                               # only significant values, sort by correlation\n",
        "rownames(df) <- NULL                                                            # reset index(row names)\n",
        "df"
      ],
      "metadata": {
        "id": "D6ETevziDX_H",
        "outputId": "d10e175c-fc71-4f54-a979-dff469bdc991",
        "colab": {
          "base_uri": "https://localhost:8080/"
        }
      },
      "execution_count": 42,
      "outputs": [
        {
          "output_type": "stream",
          "name": "stdout",
          "text": [
            "            variable correlation       pvalue   n\n",
            "1    Washington Post   0.8196886 4.583714e-02   6\n",
            "2         BaziCenter   0.6585395 3.840358e-02  10\n",
            "3          Game Rant   0.6442759 2.907041e-03  19\n",
            "4           Player 2   0.6085100 7.576676e-04  27\n",
            "5      Hooked Gamers   0.5408697 1.154574e-03  33\n",
            "6        Meristation   0.5337783 9.428026e-06  61\n",
            "7        Finger Guns   0.5105695 2.143100e-02  20\n",
            "8     Hardcore Gamer   0.5059294 5.951102e-05  57\n",
            "9           Gamersky   0.4977392 2.553432e-02  20\n",
            "10        IGN Italia   0.4953671 2.349815e-05  66\n",
            "11     Jeuxvideo.com   0.4678987 4.846886e-08 123\n",
            "12       GameCritics   0.4570950 8.911441e-05  68\n",
            "13         Millenium   0.4566809 1.103523e-03  48\n",
            "14       Everyeye.it   0.4443979 9.652410e-04  52\n",
            "15       Riot Pixels   0.4425910 1.288956e-03  50\n",
            "16         CD-Action   0.4309273 2.608244e-06 110\n",
            "17     Worth Playing   0.4249944 3.238901e-03  46\n",
            "18        WellPlayed   0.4165956 1.973749e-02  31\n",
            "19      Impulsegamer   0.4137837 1.211908e-02  36\n",
            "20               IGN   0.4131182 9.402256e-05  84\n",
            "21       Ragequit.gr   0.4050172 1.462701e-03  59\n",
            "22          Wccftech   0.4022146 2.570165e-03  54\n",
            "23      Gamer Escape   0.3896962 4.907558e-02  26\n",
            "24        meta_score   0.3866119 2.847250e-11 276\n",
            "25      COGconnected   0.3864614 4.349364e-04  79\n",
            "26         Softpedia   0.3660718 1.857894e-02  41\n",
            "27  New Game Network   0.3476699 2.075297e-02  44\n",
            "28       SpazioGames   0.3470870 8.164744e-03  57\n",
            "29          TheGamer   0.3448234 1.419348e-02  50\n",
            "30          PC Games   0.3423294 1.536160e-03  83\n",
            "31    Multiplayer.it   0.3348343 3.613033e-05 146\n",
            "32       GamingTrend   0.3219316 7.424583e-03  68\n",
            "33          GameStar   0.3123230 2.179484e-03  94\n",
            "34       PC Invasion   0.3072509 1.455884e-04 148\n",
            "35   Hey Poor Player   0.2918734 7.061958e-03  84\n",
            "36         Shacknews   0.2758500 3.960669e-02  56\n",
            "37      TheSixthAxis   0.2688698 2.780244e-02  67\n",
            "38 The Games Machine   0.2625260 1.294012e-02  89\n",
            "39       Noisy Pixel   0.2569171 1.450769e-02  90\n",
            "40   Eurogamer Italy   0.2476513 2.677223e-02  80\n",
            "41 Checkpoint Gaming   0.2475964 2.584353e-02  81\n",
            "42   Game Revolution  -0.6061994 2.807403e-02  13\n"
          ]
        }
      ]
    },
    {
      "cell_type": "markdown",
      "source": [
        "#### cocor"
      ],
      "metadata": {
        "id": "ZJvKWE_jDQuT"
      }
    },
    {
      "cell_type": "markdown",
      "source": [
        "Now use `library(cocor)` to compare each correlation with every other correlation to determine if they are signicantly different. Need to store the signficant differences in a way that is conducive to later visualization (*idk if it's even possible to usefully visualize this statically*; https://www.researchgate.net/post/How_to_elegantly_show_multiple_significant_differences_between_groups_on_a_bar_graph); *seems like I'm gonna have to learn Shiny or Dash next*)\n",
        "<br>\n",
        "<br>\n",
        "For `cocor` I'm using:\n",
        "  * independent groups; each critic only reviewed a handful of games, little overlap\n",
        "  * zou2007; relatively recent, robust method for comparing correlations\n",
        "  * confidence level = .90;  cause CI=.95 wasn't giving me enough significant differences, and a false positive isn't much of a concern with the comparisons I'm making"
      ],
      "metadata": {
        "id": "wTYDUA2cB2zM"
      }
    },
    {
      "cell_type": "code",
      "execution_count": 31,
      "metadata": {
        "colab": {
          "base_uri": "https://localhost:8080/"
        },
        "id": "WCIyFqzZao0S",
        "outputId": "52d5a400-bd5a-45b0-9c20-ea4035a0be5c"
      },
      "outputs": [
        {
          "output_type": "stream",
          "name": "stdout",
          "text": [
            " [1] 1.0000000 0.8196886 0.6585395 0.6442759 0.6085100 0.5408697 0.5337783\n",
            " [8] 0.5105695 0.5059294 0.4977392 0.4953671 0.4678987 0.4570950 0.4566809\n",
            "[15] 0.4443979 0.4425910 0.4309273 0.4249944 0.4165956 0.4137837 0.4131182\n",
            "[22] 0.4050172 0.4022146 0.3896962 0.3866119 0.3864614 0.3660718 0.3476699\n",
            "[29] 0.3470870 0.3448234 0.3423294 0.3348343 0.3219316 0.3123230 0.3072509\n",
            "[36] 0.2918734 0.2758500 0.2688698 0.2625260 0.2569171 0.2476513 0.2475964\n"
          ]
        }
      ],
      "source": [
        "%%R\n",
        "df$correlation[]"
      ]
    },
    {
      "cell_type": "code",
      "source": [
        "%%R\n",
        "#this one is working best\n",
        "\n",
        "i  <- 1\n",
        "for (variable1 in df$variable){  \n",
        "  ii <- 1\n",
        "  for (variable2 in df$variable){\n",
        "    result <- cocor.indep.groups(r1.jk=df$correlation[i], r2.hm=df$correlation[ii], n1=df$n[i], n2=df$n[ii], test='zou2007', alpha=0.05, conf.level=0.90, null.value=0)\n",
        "    print(paste(df$variable[i], 'vs.', df$variable[ii]))\n",
        "    #print(paste(i, 'vs.', ii))\n",
        "    #print(result)\n",
        "    result <- get.cocor.results(result)\n",
        "    #print(result$zou2007$conf.int)\n",
        "\n",
        "    if (((result$zou2007$conf.int[1]>0) & (result$zou2007$conf.int[2]>0)) | ((result$zou2007$conf.int[1]<0)) & ((result$zou2007$conf.int[2]<0))) {\n",
        "    print('*')\n",
        "    }\n",
        "  ii <- ii + 1\n",
        "  #print(ii)\n",
        "  }\n",
        "  i <- i + 1\n",
        "  #print(i)\n",
        "}"
      ],
      "metadata": {
        "id": "wd_LxDrMi7WH"
      },
      "execution_count": null,
      "outputs": []
    },
    {
      "cell_type": "code",
      "source": [
        "%%R\n",
        "\n",
        "sig_diff <- c()\n",
        "i <- 1\n",
        "for (variable in df$variable){\n",
        "    ii <- 1\n",
        "    for (v in df$variable){\n",
        "      result <- cocor.indep.groups(r1.jk=df$correlation[i], r2.hm=df$correlation[i+ii], n1=df$n[i], n2=df$n[i+ii], test='zou2007', alpha=0.05, conf.level=0.90, null.value=0)\n",
        "      #print(result)\n",
        "      result <- get.cocor.results(result)\n",
        "      #print(result$zou2007$conf.int)\n",
        "      ii <- ii+1\n",
        "      \n",
        "      if (((result$zou2007$conf.int[1]>0) & (result$zou2007$conf.int[2]>0)) | ((result$zou2007$conf.int[1]<0)) & ((result$zou2007$conf.int[2]<0))) {\n",
        "      sig <- c()\n",
        "      sig <- append(sig, v)\n",
        "      sig_string <-paste(sig, collapse = \", \")\n",
        "      sig_diff <- append(sig_diff, sig_string)\n",
        "      }\n",
        "    i <- i+1\n",
        "    }\n",
        "}\n",
        "print(sig_diff)"
      ],
      "metadata": {
        "id": "gSwY4mfChQd-"
      },
      "execution_count": null,
      "outputs": []
    },
    {
      "cell_type": "code",
      "execution_count": null,
      "metadata": {
        "colab": {
          "base_uri": "https://localhost:8080/"
        },
        "id": "DAbO6Nrwbzil",
        "outputId": "6d97c525-c3af-499c-8da7-fe955ebc3bd4"
      },
      "outputs": [
        {
          "output_type": "stream",
          "name": "stdout",
          "text": [
            "\n",
            "  Results of a comparison of two correlations based on independent groups\n",
            "\n",
            "Comparison between r1.jk = 0.6085 and r2.hm = 0.3866\n",
            "Difference: r1.jk - r2.hm = 0.2219\n",
            "Group sizes: n1 = 27, n2 = 276\n",
            "Null hypothesis: r1.jk is equal to r2.hm\n",
            "Alternative hypothesis: r1.jk is not equal to r2.hm (two-sided)\n",
            "Alpha: 0.05\n",
            "\n",
            "zou2007: Zou's (2007) confidence interval\n",
            "  90% confidence interval for r1.jk - r2.hm: -0.0446 0.4135\n",
            "  Null hypothesis retained (Interval includes 0)\n",
            "\n",
            "[1] -0.04461771  0.41346895\n"
          ]
        }
      ],
      "source": [
        "%%R\n",
        "\n",
        "i  <- 4\n",
        "ii <- 20\n",
        "result <- cocor.indep.groups(r1.jk=df$correlation[i], r2.hm=df$correlation[i+ii], n1=df$n[i], n2=df$n[i+ii], test='zou2007', alpha=0.05, conf.level=0.90, null.value=0)\n",
        "\n",
        "print(result)\n",
        "result <- get.cocor.results(result)\n",
        "print(result$zou2007$conf.int)\n",
        "\n",
        "if (((result$zou2007$conf.int[1]>0) & (result$zou2007$conf.int[2]>0)) | ((result$zou2007$conf.int[1]<0)) & ((result$zou2007$conf.int[2]<0))) {\n",
        "print('sigicant difference')\n",
        "}"
      ]
    },
    {
      "cell_type": "code",
      "source": [
        "%%R\n",
        "\n",
        "sig_diff <- c()\n",
        "for (variable in df$variable){\n",
        "    \n",
        "    sig <- append(sig, variable)\n",
        "    sig_string <-paste(sig, collapse = \", \")\n",
        "    sig_diff <- append(sig_diff, sig_string)\n",
        "}\n",
        "print(sig_diff)"
      ],
      "metadata": {
        "colab": {
          "base_uri": "https://localhost:8080/"
        },
        "id": "WkPi8lP_cSBl",
        "outputId": "88046d83-609d-4c6d-84fe-a613fc1b1cc7"
      },
      "execution_count": null,
      "outputs": [
        {
          "output_type": "stream",
          "name": "stdout",
          "text": [
            " [1] \"Washington Post, BaziCenter, Game Rant, Player 2, Hooked Gamers, Meristation, Finger Guns, Hardcore Gamer, Gamersky, IGN Italia, Jeuxvideo.com, GameCritics, Millenium, Everyeye.it, Riot Pixels, CD-Action, Worth Playing, WellPlayed, Impulsegamer, IGN, Ragequit.gr, Wccftech, Gamer Escape, meta_score, COGconnected, Softpedia, New Game Network, SpazioGames, TheGamer, PC Games, Multiplayer.it, GamingTrend, GameStar, PC Invasion, Hey Poor Player, Shacknews, TheSixthAxis, The Games Machine, Noisy Pixel, Eurogamer Italy, Checkpoint Gaming, Game Revolution, Washington Post, BaziCenter, Game Rant, Player 2, Hooked Gamers, Meristation, Finger Guns, Hardcore Gamer, Gamersky, IGN Italia, Jeuxvideo.com, GameCritics, Millenium, Everyeye.it, Riot Pixels, CD-Action, Worth Playing, WellPlayed, Impulsegamer, IGN, Ragequit.gr, Wccftech, Gamer Escape, meta_score, COGconnected, Softpedia, New Game Network, SpazioGames, TheGamer, PC Games, Multiplayer.it, GamingTrend, GameStar, PC Invasion, Hey Poor Player, Shacknews, TheSixthAxis, The Games Machine, Noisy Pixel, Eurogamer Italy, Checkpoint Gaming, Game Revolution, Washington Post, BaziCenter, Game Rant, Player 2, Hooked Gamers, Meristation, Finger Guns, Hardcore Gamer, Gamersky, IGN Italia, Jeuxvideo.com, GameCritics, Millenium, Everyeye.it, Riot Pixels, CD-Action, Worth Playing, WellPlayed, Impulsegamer, IGN, Ragequit.gr, Wccftech, Gamer Escape, meta_score, COGconnected, Softpedia, New Game Network, SpazioGames, TheGamer, PC Games, Multiplayer.it, GamingTrend, GameStar, PC Invasion, Hey Poor Player, Shacknews, TheSixthAxis, The Games Machine, Noisy Pixel, Eurogamer Italy, Checkpoint Gaming, Game Revolution, Washington Post, BaziCenter, Game Rant, Player 2, Hooked Gamers, Meristation, Finger Guns, Hardcore Gamer, Gamersky, IGN Italia, Jeuxvideo.com, GameCritics, Millenium, Everyeye.it, Riot Pixels, CD-Action, Worth Playing, WellPlayed, Impulsegamer, IGN, Ragequit.gr, Wccftech, Gamer Escape, meta_score, COGconnected, Softpedia, New Game Network, SpazioGames, TheGamer, PC Games, Multiplayer.it, GamingTrend, GameStar, PC Invasion, Hey Poor Player, Shacknews, TheSixthAxis, The Games Machine, Noisy Pixel, Eurogamer Italy, Checkpoint Gaming, Game Revolution, Washington Post\"                                                                                                                                                                                                                                                                                                                                                                                                                                                                                                                                                          \n",
            " [2] \"Washington Post, BaziCenter, Game Rant, Player 2, Hooked Gamers, Meristation, Finger Guns, Hardcore Gamer, Gamersky, IGN Italia, Jeuxvideo.com, GameCritics, Millenium, Everyeye.it, Riot Pixels, CD-Action, Worth Playing, WellPlayed, Impulsegamer, IGN, Ragequit.gr, Wccftech, Gamer Escape, meta_score, COGconnected, Softpedia, New Game Network, SpazioGames, TheGamer, PC Games, Multiplayer.it, GamingTrend, GameStar, PC Invasion, Hey Poor Player, Shacknews, TheSixthAxis, The Games Machine, Noisy Pixel, Eurogamer Italy, Checkpoint Gaming, Game Revolution, Washington Post, BaziCenter, Game Rant, Player 2, Hooked Gamers, Meristation, Finger Guns, Hardcore Gamer, Gamersky, IGN Italia, Jeuxvideo.com, GameCritics, Millenium, Everyeye.it, Riot Pixels, CD-Action, Worth Playing, WellPlayed, Impulsegamer, IGN, Ragequit.gr, Wccftech, Gamer Escape, meta_score, COGconnected, Softpedia, New Game Network, SpazioGames, TheGamer, PC Games, Multiplayer.it, GamingTrend, GameStar, PC Invasion, Hey Poor Player, Shacknews, TheSixthAxis, The Games Machine, Noisy Pixel, Eurogamer Italy, Checkpoint Gaming, Game Revolution, Washington Post, BaziCenter, Game Rant, Player 2, Hooked Gamers, Meristation, Finger Guns, Hardcore Gamer, Gamersky, IGN Italia, Jeuxvideo.com, GameCritics, Millenium, Everyeye.it, Riot Pixels, CD-Action, Worth Playing, WellPlayed, Impulsegamer, IGN, Ragequit.gr, Wccftech, Gamer Escape, meta_score, COGconnected, Softpedia, New Game Network, SpazioGames, TheGamer, PC Games, Multiplayer.it, GamingTrend, GameStar, PC Invasion, Hey Poor Player, Shacknews, TheSixthAxis, The Games Machine, Noisy Pixel, Eurogamer Italy, Checkpoint Gaming, Game Revolution, Washington Post, BaziCenter, Game Rant, Player 2, Hooked Gamers, Meristation, Finger Guns, Hardcore Gamer, Gamersky, IGN Italia, Jeuxvideo.com, GameCritics, Millenium, Everyeye.it, Riot Pixels, CD-Action, Worth Playing, WellPlayed, Impulsegamer, IGN, Ragequit.gr, Wccftech, Gamer Escape, meta_score, COGconnected, Softpedia, New Game Network, SpazioGames, TheGamer, PC Games, Multiplayer.it, GamingTrend, GameStar, PC Invasion, Hey Poor Player, Shacknews, TheSixthAxis, The Games Machine, Noisy Pixel, Eurogamer Italy, Checkpoint Gaming, Game Revolution, Washington Post, BaziCenter\"                                                                                                                                                                                                                                                                                                                                                                                                                                                                                                                                              \n",
            " [3] \"Washington Post, BaziCenter, Game Rant, Player 2, Hooked Gamers, Meristation, Finger Guns, Hardcore Gamer, Gamersky, IGN Italia, Jeuxvideo.com, GameCritics, Millenium, Everyeye.it, Riot Pixels, CD-Action, Worth Playing, WellPlayed, Impulsegamer, IGN, Ragequit.gr, Wccftech, Gamer Escape, meta_score, COGconnected, Softpedia, New Game Network, SpazioGames, TheGamer, PC Games, Multiplayer.it, GamingTrend, GameStar, PC Invasion, Hey Poor Player, Shacknews, TheSixthAxis, The Games Machine, Noisy Pixel, Eurogamer Italy, Checkpoint Gaming, Game Revolution, Washington Post, BaziCenter, Game Rant, Player 2, Hooked Gamers, Meristation, Finger Guns, Hardcore Gamer, Gamersky, IGN Italia, Jeuxvideo.com, GameCritics, Millenium, Everyeye.it, Riot Pixels, CD-Action, Worth Playing, WellPlayed, Impulsegamer, IGN, Ragequit.gr, Wccftech, Gamer Escape, meta_score, COGconnected, Softpedia, New Game Network, SpazioGames, TheGamer, PC Games, Multiplayer.it, GamingTrend, GameStar, PC Invasion, Hey Poor Player, Shacknews, TheSixthAxis, The Games Machine, Noisy Pixel, Eurogamer Italy, Checkpoint Gaming, Game Revolution, Washington Post, BaziCenter, Game Rant, Player 2, Hooked Gamers, Meristation, Finger Guns, Hardcore Gamer, Gamersky, IGN Italia, Jeuxvideo.com, GameCritics, Millenium, Everyeye.it, Riot Pixels, CD-Action, Worth Playing, WellPlayed, Impulsegamer, IGN, Ragequit.gr, Wccftech, Gamer Escape, meta_score, COGconnected, Softpedia, New Game Network, SpazioGames, TheGamer, PC Games, Multiplayer.it, GamingTrend, GameStar, PC Invasion, Hey Poor Player, Shacknews, TheSixthAxis, The Games Machine, Noisy Pixel, Eurogamer Italy, Checkpoint Gaming, Game Revolution, Washington Post, BaziCenter, Game Rant, Player 2, Hooked Gamers, Meristation, Finger Guns, Hardcore Gamer, Gamersky, IGN Italia, Jeuxvideo.com, GameCritics, Millenium, Everyeye.it, Riot Pixels, CD-Action, Worth Playing, WellPlayed, Impulsegamer, IGN, Ragequit.gr, Wccftech, Gamer Escape, meta_score, COGconnected, Softpedia, New Game Network, SpazioGames, TheGamer, PC Games, Multiplayer.it, GamingTrend, GameStar, PC Invasion, Hey Poor Player, Shacknews, TheSixthAxis, The Games Machine, Noisy Pixel, Eurogamer Italy, Checkpoint Gaming, Game Revolution, Washington Post, BaziCenter, Game Rant\"                                                                                                                                                                                                                                                                                                                                                                                                                                                                                                                                   \n",
            " [4] \"Washington Post, BaziCenter, Game Rant, Player 2, Hooked Gamers, Meristation, Finger Guns, Hardcore Gamer, Gamersky, IGN Italia, Jeuxvideo.com, GameCritics, Millenium, Everyeye.it, Riot Pixels, CD-Action, Worth Playing, WellPlayed, Impulsegamer, IGN, Ragequit.gr, Wccftech, Gamer Escape, meta_score, COGconnected, Softpedia, New Game Network, SpazioGames, TheGamer, PC Games, Multiplayer.it, GamingTrend, GameStar, PC Invasion, Hey Poor Player, Shacknews, TheSixthAxis, The Games Machine, Noisy Pixel, Eurogamer Italy, Checkpoint Gaming, Game Revolution, Washington Post, BaziCenter, Game Rant, Player 2, Hooked Gamers, Meristation, Finger Guns, Hardcore Gamer, Gamersky, IGN Italia, Jeuxvideo.com, GameCritics, Millenium, Everyeye.it, Riot Pixels, CD-Action, Worth Playing, WellPlayed, Impulsegamer, IGN, Ragequit.gr, Wccftech, Gamer Escape, meta_score, COGconnected, Softpedia, New Game Network, SpazioGames, TheGamer, PC Games, Multiplayer.it, GamingTrend, GameStar, PC Invasion, Hey Poor Player, Shacknews, TheSixthAxis, The Games Machine, Noisy Pixel, Eurogamer Italy, Checkpoint Gaming, Game Revolution, Washington Post, BaziCenter, Game Rant, Player 2, Hooked Gamers, Meristation, Finger Guns, Hardcore Gamer, Gamersky, IGN Italia, Jeuxvideo.com, GameCritics, Millenium, Everyeye.it, Riot Pixels, CD-Action, Worth Playing, WellPlayed, Impulsegamer, IGN, Ragequit.gr, Wccftech, Gamer Escape, meta_score, COGconnected, Softpedia, New Game Network, SpazioGames, TheGamer, PC Games, Multiplayer.it, GamingTrend, GameStar, PC Invasion, Hey Poor Player, Shacknews, TheSixthAxis, The Games Machine, Noisy Pixel, Eurogamer Italy, Checkpoint Gaming, Game Revolution, Washington Post, BaziCenter, Game Rant, Player 2, Hooked Gamers, Meristation, Finger Guns, Hardcore Gamer, Gamersky, IGN Italia, Jeuxvideo.com, GameCritics, Millenium, Everyeye.it, Riot Pixels, CD-Action, Worth Playing, WellPlayed, Impulsegamer, IGN, Ragequit.gr, Wccftech, Gamer Escape, meta_score, COGconnected, Softpedia, New Game Network, SpazioGames, TheGamer, PC Games, Multiplayer.it, GamingTrend, GameStar, PC Invasion, Hey Poor Player, Shacknews, TheSixthAxis, The Games Machine, Noisy Pixel, Eurogamer Italy, Checkpoint Gaming, Game Revolution, Washington Post, BaziCenter, Game Rant, Player 2\"                                                                                                                                                                                                                                                                                                                                                                                                                                                                                                                         \n",
            " [5] \"Washington Post, BaziCenter, Game Rant, Player 2, Hooked Gamers, Meristation, Finger Guns, Hardcore Gamer, Gamersky, IGN Italia, Jeuxvideo.com, GameCritics, Millenium, Everyeye.it, Riot Pixels, CD-Action, Worth Playing, WellPlayed, Impulsegamer, IGN, Ragequit.gr, Wccftech, Gamer Escape, meta_score, COGconnected, Softpedia, New Game Network, SpazioGames, TheGamer, PC Games, Multiplayer.it, GamingTrend, GameStar, PC Invasion, Hey Poor Player, Shacknews, TheSixthAxis, The Games Machine, Noisy Pixel, Eurogamer Italy, Checkpoint Gaming, Game Revolution, Washington Post, BaziCenter, Game Rant, Player 2, Hooked Gamers, Meristation, Finger Guns, Hardcore Gamer, Gamersky, IGN Italia, Jeuxvideo.com, GameCritics, Millenium, Everyeye.it, Riot Pixels, CD-Action, Worth Playing, WellPlayed, Impulsegamer, IGN, Ragequit.gr, Wccftech, Gamer Escape, meta_score, COGconnected, Softpedia, New Game Network, SpazioGames, TheGamer, PC Games, Multiplayer.it, GamingTrend, GameStar, PC Invasion, Hey Poor Player, Shacknews, TheSixthAxis, The Games Machine, Noisy Pixel, Eurogamer Italy, Checkpoint Gaming, Game Revolution, Washington Post, BaziCenter, Game Rant, Player 2, Hooked Gamers, Meristation, Finger Guns, Hardcore Gamer, Gamersky, IGN Italia, Jeuxvideo.com, GameCritics, Millenium, Everyeye.it, Riot Pixels, CD-Action, Worth Playing, WellPlayed, Impulsegamer, IGN, Ragequit.gr, Wccftech, Gamer Escape, meta_score, COGconnected, Softpedia, New Game Network, SpazioGames, TheGamer, PC Games, Multiplayer.it, GamingTrend, GameStar, PC Invasion, Hey Poor Player, Shacknews, TheSixthAxis, The Games Machine, Noisy Pixel, Eurogamer Italy, Checkpoint Gaming, Game Revolution, Washington Post, BaziCenter, Game Rant, Player 2, Hooked Gamers, Meristation, Finger Guns, Hardcore Gamer, Gamersky, IGN Italia, Jeuxvideo.com, GameCritics, Millenium, Everyeye.it, Riot Pixels, CD-Action, Worth Playing, WellPlayed, Impulsegamer, IGN, Ragequit.gr, Wccftech, Gamer Escape, meta_score, COGconnected, Softpedia, New Game Network, SpazioGames, TheGamer, PC Games, Multiplayer.it, GamingTrend, GameStar, PC Invasion, Hey Poor Player, Shacknews, TheSixthAxis, The Games Machine, Noisy Pixel, Eurogamer Italy, Checkpoint Gaming, Game Revolution, Washington Post, BaziCenter, Game Rant, Player 2, Hooked Gamers\"                                                                                                                                                                                                                                                                                                                                                                                                                                                                                                          \n",
            " [6] \"Washington Post, BaziCenter, Game Rant, Player 2, Hooked Gamers, Meristation, Finger Guns, Hardcore Gamer, Gamersky, IGN Italia, Jeuxvideo.com, GameCritics, Millenium, Everyeye.it, Riot Pixels, CD-Action, Worth Playing, WellPlayed, Impulsegamer, IGN, Ragequit.gr, Wccftech, Gamer Escape, meta_score, COGconnected, Softpedia, New Game Network, SpazioGames, TheGamer, PC Games, Multiplayer.it, GamingTrend, GameStar, PC Invasion, Hey Poor Player, Shacknews, TheSixthAxis, The Games Machine, Noisy Pixel, Eurogamer Italy, Checkpoint Gaming, Game Revolution, Washington Post, BaziCenter, Game Rant, Player 2, Hooked Gamers, Meristation, Finger Guns, Hardcore Gamer, Gamersky, IGN Italia, Jeuxvideo.com, GameCritics, Millenium, Everyeye.it, Riot Pixels, CD-Action, Worth Playing, WellPlayed, Impulsegamer, IGN, Ragequit.gr, Wccftech, Gamer Escape, meta_score, COGconnected, Softpedia, New Game Network, SpazioGames, TheGamer, PC Games, Multiplayer.it, GamingTrend, GameStar, PC Invasion, Hey Poor Player, Shacknews, TheSixthAxis, The Games Machine, Noisy Pixel, Eurogamer Italy, Checkpoint Gaming, Game Revolution, Washington Post, BaziCenter, Game Rant, Player 2, Hooked Gamers, Meristation, Finger Guns, Hardcore Gamer, Gamersky, IGN Italia, Jeuxvideo.com, GameCritics, Millenium, Everyeye.it, Riot Pixels, CD-Action, Worth Playing, WellPlayed, Impulsegamer, IGN, Ragequit.gr, Wccftech, Gamer Escape, meta_score, COGconnected, Softpedia, New Game Network, SpazioGames, TheGamer, PC Games, Multiplayer.it, GamingTrend, GameStar, PC Invasion, Hey Poor Player, Shacknews, TheSixthAxis, The Games Machine, Noisy Pixel, Eurogamer Italy, Checkpoint Gaming, Game Revolution, Washington Post, BaziCenter, Game Rant, Player 2, Hooked Gamers, Meristation, Finger Guns, Hardcore Gamer, Gamersky, IGN Italia, Jeuxvideo.com, GameCritics, Millenium, Everyeye.it, Riot Pixels, CD-Action, Worth Playing, WellPlayed, Impulsegamer, IGN, Ragequit.gr, Wccftech, Gamer Escape, meta_score, COGconnected, Softpedia, New Game Network, SpazioGames, TheGamer, PC Games, Multiplayer.it, GamingTrend, GameStar, PC Invasion, Hey Poor Player, Shacknews, TheSixthAxis, The Games Machine, Noisy Pixel, Eurogamer Italy, Checkpoint Gaming, Game Revolution, Washington Post, BaziCenter, Game Rant, Player 2, Hooked Gamers, Meristation\"                                                                                                                                                                                                                                                                                                                                                                                                                                                                                             \n",
            " [7] \"Washington Post, BaziCenter, Game Rant, Player 2, Hooked Gamers, Meristation, Finger Guns, Hardcore Gamer, Gamersky, IGN Italia, Jeuxvideo.com, GameCritics, Millenium, Everyeye.it, Riot Pixels, CD-Action, Worth Playing, WellPlayed, Impulsegamer, IGN, Ragequit.gr, Wccftech, Gamer Escape, meta_score, COGconnected, Softpedia, New Game Network, SpazioGames, TheGamer, PC Games, Multiplayer.it, GamingTrend, GameStar, PC Invasion, Hey Poor Player, Shacknews, TheSixthAxis, The Games Machine, Noisy Pixel, Eurogamer Italy, Checkpoint Gaming, Game Revolution, Washington Post, BaziCenter, Game Rant, Player 2, Hooked Gamers, Meristation, Finger Guns, Hardcore Gamer, Gamersky, IGN Italia, Jeuxvideo.com, GameCritics, Millenium, Everyeye.it, Riot Pixels, CD-Action, Worth Playing, WellPlayed, Impulsegamer, IGN, Ragequit.gr, Wccftech, Gamer Escape, meta_score, COGconnected, Softpedia, New Game Network, SpazioGames, TheGamer, PC Games, Multiplayer.it, GamingTrend, GameStar, PC Invasion, Hey Poor Player, Shacknews, TheSixthAxis, The Games Machine, Noisy Pixel, Eurogamer Italy, Checkpoint Gaming, Game Revolution, Washington Post, BaziCenter, Game Rant, Player 2, Hooked Gamers, Meristation, Finger Guns, Hardcore Gamer, Gamersky, IGN Italia, Jeuxvideo.com, GameCritics, Millenium, Everyeye.it, Riot Pixels, CD-Action, Worth Playing, WellPlayed, Impulsegamer, IGN, Ragequit.gr, Wccftech, Gamer Escape, meta_score, COGconnected, Softpedia, New Game Network, SpazioGames, TheGamer, PC Games, Multiplayer.it, GamingTrend, GameStar, PC Invasion, Hey Poor Player, Shacknews, TheSixthAxis, The Games Machine, Noisy Pixel, Eurogamer Italy, Checkpoint Gaming, Game Revolution, Washington Post, BaziCenter, Game Rant, Player 2, Hooked Gamers, Meristation, Finger Guns, Hardcore Gamer, Gamersky, IGN Italia, Jeuxvideo.com, GameCritics, Millenium, Everyeye.it, Riot Pixels, CD-Action, Worth Playing, WellPlayed, Impulsegamer, IGN, Ragequit.gr, Wccftech, Gamer Escape, meta_score, COGconnected, Softpedia, New Game Network, SpazioGames, TheGamer, PC Games, Multiplayer.it, GamingTrend, GameStar, PC Invasion, Hey Poor Player, Shacknews, TheSixthAxis, The Games Machine, Noisy Pixel, Eurogamer Italy, Checkpoint Gaming, Game Revolution, Washington Post, BaziCenter, Game Rant, Player 2, Hooked Gamers, Meristation, Finger Guns\"                                                                                                                                                                                                                                                                                                                                                                                                                                                                                \n",
            " [8] \"Washington Post, BaziCenter, Game Rant, Player 2, Hooked Gamers, Meristation, Finger Guns, Hardcore Gamer, Gamersky, IGN Italia, Jeuxvideo.com, GameCritics, Millenium, Everyeye.it, Riot Pixels, CD-Action, Worth Playing, WellPlayed, Impulsegamer, IGN, Ragequit.gr, Wccftech, Gamer Escape, meta_score, COGconnected, Softpedia, New Game Network, SpazioGames, TheGamer, PC Games, Multiplayer.it, GamingTrend, GameStar, PC Invasion, Hey Poor Player, Shacknews, TheSixthAxis, The Games Machine, Noisy Pixel, Eurogamer Italy, Checkpoint Gaming, Game Revolution, Washington Post, BaziCenter, Game Rant, Player 2, Hooked Gamers, Meristation, Finger Guns, Hardcore Gamer, Gamersky, IGN Italia, Jeuxvideo.com, GameCritics, Millenium, Everyeye.it, Riot Pixels, CD-Action, Worth Playing, WellPlayed, Impulsegamer, IGN, Ragequit.gr, Wccftech, Gamer Escape, meta_score, COGconnected, Softpedia, New Game Network, SpazioGames, TheGamer, PC Games, Multiplayer.it, GamingTrend, GameStar, PC Invasion, Hey Poor Player, Shacknews, TheSixthAxis, The Games Machine, Noisy Pixel, Eurogamer Italy, Checkpoint Gaming, Game Revolution, Washington Post, BaziCenter, Game Rant, Player 2, Hooked Gamers, Meristation, Finger Guns, Hardcore Gamer, Gamersky, IGN Italia, Jeuxvideo.com, GameCritics, Millenium, Everyeye.it, Riot Pixels, CD-Action, Worth Playing, WellPlayed, Impulsegamer, IGN, Ragequit.gr, Wccftech, Gamer Escape, meta_score, COGconnected, Softpedia, New Game Network, SpazioGames, TheGamer, PC Games, Multiplayer.it, GamingTrend, GameStar, PC Invasion, Hey Poor Player, Shacknews, TheSixthAxis, The Games Machine, Noisy Pixel, Eurogamer Italy, Checkpoint Gaming, Game Revolution, Washington Post, BaziCenter, Game Rant, Player 2, Hooked Gamers, Meristation, Finger Guns, Hardcore Gamer, Gamersky, IGN Italia, Jeuxvideo.com, GameCritics, Millenium, Everyeye.it, Riot Pixels, CD-Action, Worth Playing, WellPlayed, Impulsegamer, IGN, Ragequit.gr, Wccftech, Gamer Escape, meta_score, COGconnected, Softpedia, New Game Network, SpazioGames, TheGamer, PC Games, Multiplayer.it, GamingTrend, GameStar, PC Invasion, Hey Poor Player, Shacknews, TheSixthAxis, The Games Machine, Noisy Pixel, Eurogamer Italy, Checkpoint Gaming, Game Revolution, Washington Post, BaziCenter, Game Rant, Player 2, Hooked Gamers, Meristation, Finger Guns, Hardcore Gamer\"                                                                                                                                                                                                                                                                                                                                                                                                                                                                \n",
            " [9] \"Washington Post, BaziCenter, Game Rant, Player 2, Hooked Gamers, Meristation, Finger Guns, Hardcore Gamer, Gamersky, IGN Italia, Jeuxvideo.com, GameCritics, Millenium, Everyeye.it, Riot Pixels, CD-Action, Worth Playing, WellPlayed, Impulsegamer, IGN, Ragequit.gr, Wccftech, Gamer Escape, meta_score, COGconnected, Softpedia, New Game Network, SpazioGames, TheGamer, PC Games, Multiplayer.it, GamingTrend, GameStar, PC Invasion, Hey Poor Player, Shacknews, TheSixthAxis, The Games Machine, Noisy Pixel, Eurogamer Italy, Checkpoint Gaming, Game Revolution, Washington Post, BaziCenter, Game Rant, Player 2, Hooked Gamers, Meristation, Finger Guns, Hardcore Gamer, Gamersky, IGN Italia, Jeuxvideo.com, GameCritics, Millenium, Everyeye.it, Riot Pixels, CD-Action, Worth Playing, WellPlayed, Impulsegamer, IGN, Ragequit.gr, Wccftech, Gamer Escape, meta_score, COGconnected, Softpedia, New Game Network, SpazioGames, TheGamer, PC Games, Multiplayer.it, GamingTrend, GameStar, PC Invasion, Hey Poor Player, Shacknews, TheSixthAxis, The Games Machine, Noisy Pixel, Eurogamer Italy, Checkpoint Gaming, Game Revolution, Washington Post, BaziCenter, Game Rant, Player 2, Hooked Gamers, Meristation, Finger Guns, Hardcore Gamer, Gamersky, IGN Italia, Jeuxvideo.com, GameCritics, Millenium, Everyeye.it, Riot Pixels, CD-Action, Worth Playing, WellPlayed, Impulsegamer, IGN, Ragequit.gr, Wccftech, Gamer Escape, meta_score, COGconnected, Softpedia, New Game Network, SpazioGames, TheGamer, PC Games, Multiplayer.it, GamingTrend, GameStar, PC Invasion, Hey Poor Player, Shacknews, TheSixthAxis, The Games Machine, Noisy Pixel, Eurogamer Italy, Checkpoint Gaming, Game Revolution, Washington Post, BaziCenter, Game Rant, Player 2, Hooked Gamers, Meristation, Finger Guns, Hardcore Gamer, Gamersky, IGN Italia, Jeuxvideo.com, GameCritics, Millenium, Everyeye.it, Riot Pixels, CD-Action, Worth Playing, WellPlayed, Impulsegamer, IGN, Ragequit.gr, Wccftech, Gamer Escape, meta_score, COGconnected, Softpedia, New Game Network, SpazioGames, TheGamer, PC Games, Multiplayer.it, GamingTrend, GameStar, PC Invasion, Hey Poor Player, Shacknews, TheSixthAxis, The Games Machine, Noisy Pixel, Eurogamer Italy, Checkpoint Gaming, Game Revolution, Washington Post, BaziCenter, Game Rant, Player 2, Hooked Gamers, Meristation, Finger Guns, Hardcore Gamer, Gamersky\"                                                                                                                                                                                                                                                                                                                                                                                                                                                      \n",
            "[10] \"Washington Post, BaziCenter, Game Rant, Player 2, Hooked Gamers, Meristation, Finger Guns, Hardcore Gamer, Gamersky, IGN Italia, Jeuxvideo.com, GameCritics, Millenium, Everyeye.it, Riot Pixels, CD-Action, Worth Playing, WellPlayed, Impulsegamer, IGN, Ragequit.gr, Wccftech, Gamer Escape, meta_score, COGconnected, Softpedia, New Game Network, SpazioGames, TheGamer, PC Games, Multiplayer.it, GamingTrend, GameStar, PC Invasion, Hey Poor Player, Shacknews, TheSixthAxis, The Games Machine, Noisy Pixel, Eurogamer Italy, Checkpoint Gaming, Game Revolution, Washington Post, BaziCenter, Game Rant, Player 2, Hooked Gamers, Meristation, Finger Guns, Hardcore Gamer, Gamersky, IGN Italia, Jeuxvideo.com, GameCritics, Millenium, Everyeye.it, Riot Pixels, CD-Action, Worth Playing, WellPlayed, Impulsegamer, IGN, Ragequit.gr, Wccftech, Gamer Escape, meta_score, COGconnected, Softpedia, New Game Network, SpazioGames, TheGamer, PC Games, Multiplayer.it, GamingTrend, GameStar, PC Invasion, Hey Poor Player, Shacknews, TheSixthAxis, The Games Machine, Noisy Pixel, Eurogamer Italy, Checkpoint Gaming, Game Revolution, Washington Post, BaziCenter, Game Rant, Player 2, Hooked Gamers, Meristation, Finger Guns, Hardcore Gamer, Gamersky, IGN Italia, Jeuxvideo.com, GameCritics, Millenium, Everyeye.it, Riot Pixels, CD-Action, Worth Playing, WellPlayed, Impulsegamer, IGN, Ragequit.gr, Wccftech, Gamer Escape, meta_score, COGconnected, Softpedia, New Game Network, SpazioGames, TheGamer, PC Games, Multiplayer.it, GamingTrend, GameStar, PC Invasion, Hey Poor Player, Shacknews, TheSixthAxis, The Games Machine, Noisy Pixel, Eurogamer Italy, Checkpoint Gaming, Game Revolution, Washington Post, BaziCenter, Game Rant, Player 2, Hooked Gamers, Meristation, Finger Guns, Hardcore Gamer, Gamersky, IGN Italia, Jeuxvideo.com, GameCritics, Millenium, Everyeye.it, Riot Pixels, CD-Action, Worth Playing, WellPlayed, Impulsegamer, IGN, Ragequit.gr, Wccftech, Gamer Escape, meta_score, COGconnected, Softpedia, New Game Network, SpazioGames, TheGamer, PC Games, Multiplayer.it, GamingTrend, GameStar, PC Invasion, Hey Poor Player, Shacknews, TheSixthAxis, The Games Machine, Noisy Pixel, Eurogamer Italy, Checkpoint Gaming, Game Revolution, Washington Post, BaziCenter, Game Rant, Player 2, Hooked Gamers, Meristation, Finger Guns, Hardcore Gamer, Gamersky, IGN Italia\"                                                                                                                                                                                                                                                                                                                                                                                                                                          \n",
            "[11] \"Washington Post, BaziCenter, Game Rant, Player 2, Hooked Gamers, Meristation, Finger Guns, Hardcore Gamer, Gamersky, IGN Italia, Jeuxvideo.com, GameCritics, Millenium, Everyeye.it, Riot Pixels, CD-Action, Worth Playing, WellPlayed, Impulsegamer, IGN, Ragequit.gr, Wccftech, Gamer Escape, meta_score, COGconnected, Softpedia, New Game Network, SpazioGames, TheGamer, PC Games, Multiplayer.it, GamingTrend, GameStar, PC Invasion, Hey Poor Player, Shacknews, TheSixthAxis, The Games Machine, Noisy Pixel, Eurogamer Italy, Checkpoint Gaming, Game Revolution, Washington Post, BaziCenter, Game Rant, Player 2, Hooked Gamers, Meristation, Finger Guns, Hardcore Gamer, Gamersky, IGN Italia, Jeuxvideo.com, GameCritics, Millenium, Everyeye.it, Riot Pixels, CD-Action, Worth Playing, WellPlayed, Impulsegamer, IGN, Ragequit.gr, Wccftech, Gamer Escape, meta_score, COGconnected, Softpedia, New Game Network, SpazioGames, TheGamer, PC Games, Multiplayer.it, GamingTrend, GameStar, PC Invasion, Hey Poor Player, Shacknews, TheSixthAxis, The Games Machine, Noisy Pixel, Eurogamer Italy, Checkpoint Gaming, Game Revolution, Washington Post, BaziCenter, Game Rant, Player 2, Hooked Gamers, Meristation, Finger Guns, Hardcore Gamer, Gamersky, IGN Italia, Jeuxvideo.com, GameCritics, Millenium, Everyeye.it, Riot Pixels, CD-Action, Worth Playing, WellPlayed, Impulsegamer, IGN, Ragequit.gr, Wccftech, Gamer Escape, meta_score, COGconnected, Softpedia, New Game Network, SpazioGames, TheGamer, PC Games, Multiplayer.it, GamingTrend, GameStar, PC Invasion, Hey Poor Player, Shacknews, TheSixthAxis, The Games Machine, Noisy Pixel, Eurogamer Italy, Checkpoint Gaming, Game Revolution, Washington Post, BaziCenter, Game Rant, Player 2, Hooked Gamers, Meristation, Finger Guns, Hardcore Gamer, Gamersky, IGN Italia, Jeuxvideo.com, GameCritics, Millenium, Everyeye.it, Riot Pixels, CD-Action, Worth Playing, WellPlayed, Impulsegamer, IGN, Ragequit.gr, Wccftech, Gamer Escape, meta_score, COGconnected, Softpedia, New Game Network, SpazioGames, TheGamer, PC Games, Multiplayer.it, GamingTrend, GameStar, PC Invasion, Hey Poor Player, Shacknews, TheSixthAxis, The Games Machine, Noisy Pixel, Eurogamer Italy, Checkpoint Gaming, Game Revolution, Washington Post, BaziCenter, Game Rant, Player 2, Hooked Gamers, Meristation, Finger Guns, Hardcore Gamer, Gamersky, IGN Italia, Jeuxvideo.com\"                                                                                                                                                                                                                                                                                                                                                                                                                           \n",
            "[12] \"Washington Post, BaziCenter, Game Rant, Player 2, Hooked Gamers, Meristation, Finger Guns, Hardcore Gamer, Gamersky, IGN Italia, Jeuxvideo.com, GameCritics, Millenium, Everyeye.it, Riot Pixels, CD-Action, Worth Playing, WellPlayed, Impulsegamer, IGN, Ragequit.gr, Wccftech, Gamer Escape, meta_score, COGconnected, Softpedia, New Game Network, SpazioGames, TheGamer, PC Games, Multiplayer.it, GamingTrend, GameStar, PC Invasion, Hey Poor Player, Shacknews, TheSixthAxis, The Games Machine, Noisy Pixel, Eurogamer Italy, Checkpoint Gaming, Game Revolution, Washington Post, BaziCenter, Game Rant, Player 2, Hooked Gamers, Meristation, Finger Guns, Hardcore Gamer, Gamersky, IGN Italia, Jeuxvideo.com, GameCritics, Millenium, Everyeye.it, Riot Pixels, CD-Action, Worth Playing, WellPlayed, Impulsegamer, IGN, Ragequit.gr, Wccftech, Gamer Escape, meta_score, COGconnected, Softpedia, New Game Network, SpazioGames, TheGamer, PC Games, Multiplayer.it, GamingTrend, GameStar, PC Invasion, Hey Poor Player, Shacknews, TheSixthAxis, The Games Machine, Noisy Pixel, Eurogamer Italy, Checkpoint Gaming, Game Revolution, Washington Post, BaziCenter, Game Rant, Player 2, Hooked Gamers, Meristation, Finger Guns, Hardcore Gamer, Gamersky, IGN Italia, Jeuxvideo.com, GameCritics, Millenium, Everyeye.it, Riot Pixels, CD-Action, Worth Playing, WellPlayed, Impulsegamer, IGN, Ragequit.gr, Wccftech, Gamer Escape, meta_score, COGconnected, Softpedia, New Game Network, SpazioGames, TheGamer, PC Games, Multiplayer.it, GamingTrend, GameStar, PC Invasion, Hey Poor Player, Shacknews, TheSixthAxis, The Games Machine, Noisy Pixel, Eurogamer Italy, Checkpoint Gaming, Game Revolution, Washington Post, BaziCenter, Game Rant, Player 2, Hooked Gamers, Meristation, Finger Guns, Hardcore Gamer, Gamersky, IGN Italia, Jeuxvideo.com, GameCritics, Millenium, Everyeye.it, Riot Pixels, CD-Action, Worth Playing, WellPlayed, Impulsegamer, IGN, Ragequit.gr, Wccftech, Gamer Escape, meta_score, COGconnected, Softpedia, New Game Network, SpazioGames, TheGamer, PC Games, Multiplayer.it, GamingTrend, GameStar, PC Invasion, Hey Poor Player, Shacknews, TheSixthAxis, The Games Machine, Noisy Pixel, Eurogamer Italy, Checkpoint Gaming, Game Revolution, Washington Post, BaziCenter, Game Rant, Player 2, Hooked Gamers, Meristation, Finger Guns, Hardcore Gamer, Gamersky, IGN Italia, Jeuxvideo.com, GameCritics\"                                                                                                                                                                                                                                                                                                                                                                                                              \n",
            "[13] \"Washington Post, BaziCenter, Game Rant, Player 2, Hooked Gamers, Meristation, Finger Guns, Hardcore Gamer, Gamersky, IGN Italia, Jeuxvideo.com, GameCritics, Millenium, Everyeye.it, Riot Pixels, CD-Action, Worth Playing, WellPlayed, Impulsegamer, IGN, Ragequit.gr, Wccftech, Gamer Escape, meta_score, COGconnected, Softpedia, New Game Network, SpazioGames, TheGamer, PC Games, Multiplayer.it, GamingTrend, GameStar, PC Invasion, Hey Poor Player, Shacknews, TheSixthAxis, The Games Machine, Noisy Pixel, Eurogamer Italy, Checkpoint Gaming, Game Revolution, Washington Post, BaziCenter, Game Rant, Player 2, Hooked Gamers, Meristation, Finger Guns, Hardcore Gamer, Gamersky, IGN Italia, Jeuxvideo.com, GameCritics, Millenium, Everyeye.it, Riot Pixels, CD-Action, Worth Playing, WellPlayed, Impulsegamer, IGN, Ragequit.gr, Wccftech, Gamer Escape, meta_score, COGconnected, Softpedia, New Game Network, SpazioGames, TheGamer, PC Games, Multiplayer.it, GamingTrend, GameStar, PC Invasion, Hey Poor Player, Shacknews, TheSixthAxis, The Games Machine, Noisy Pixel, Eurogamer Italy, Checkpoint Gaming, Game Revolution, Washington Post, BaziCenter, Game Rant, Player 2, Hooked Gamers, Meristation, Finger Guns, Hardcore Gamer, Gamersky, IGN Italia, Jeuxvideo.com, GameCritics, Millenium, Everyeye.it, Riot Pixels, CD-Action, Worth Playing, WellPlayed, Impulsegamer, IGN, Ragequit.gr, Wccftech, Gamer Escape, meta_score, COGconnected, Softpedia, New Game Network, SpazioGames, TheGamer, PC Games, Multiplayer.it, GamingTrend, GameStar, PC Invasion, Hey Poor Player, Shacknews, TheSixthAxis, The Games Machine, Noisy Pixel, Eurogamer Italy, Checkpoint Gaming, Game Revolution, Washington Post, BaziCenter, Game Rant, Player 2, Hooked Gamers, Meristation, Finger Guns, Hardcore Gamer, Gamersky, IGN Italia, Jeuxvideo.com, GameCritics, Millenium, Everyeye.it, Riot Pixels, CD-Action, Worth Playing, WellPlayed, Impulsegamer, IGN, Ragequit.gr, Wccftech, Gamer Escape, meta_score, COGconnected, Softpedia, New Game Network, SpazioGames, TheGamer, PC Games, Multiplayer.it, GamingTrend, GameStar, PC Invasion, Hey Poor Player, Shacknews, TheSixthAxis, The Games Machine, Noisy Pixel, Eurogamer Italy, Checkpoint Gaming, Game Revolution, Washington Post, BaziCenter, Game Rant, Player 2, Hooked Gamers, Meristation, Finger Guns, Hardcore Gamer, Gamersky, IGN Italia, Jeuxvideo.com, GameCritics, Millenium\"                                                                                                                                                                                                                                                                                                                                                                                                   \n",
            "[14] \"Washington Post, BaziCenter, Game Rant, Player 2, Hooked Gamers, Meristation, Finger Guns, Hardcore Gamer, Gamersky, IGN Italia, Jeuxvideo.com, GameCritics, Millenium, Everyeye.it, Riot Pixels, CD-Action, Worth Playing, WellPlayed, Impulsegamer, IGN, Ragequit.gr, Wccftech, Gamer Escape, meta_score, COGconnected, Softpedia, New Game Network, SpazioGames, TheGamer, PC Games, Multiplayer.it, GamingTrend, GameStar, PC Invasion, Hey Poor Player, Shacknews, TheSixthAxis, The Games Machine, Noisy Pixel, Eurogamer Italy, Checkpoint Gaming, Game Revolution, Washington Post, BaziCenter, Game Rant, Player 2, Hooked Gamers, Meristation, Finger Guns, Hardcore Gamer, Gamersky, IGN Italia, Jeuxvideo.com, GameCritics, Millenium, Everyeye.it, Riot Pixels, CD-Action, Worth Playing, WellPlayed, Impulsegamer, IGN, Ragequit.gr, Wccftech, Gamer Escape, meta_score, COGconnected, Softpedia, New Game Network, SpazioGames, TheGamer, PC Games, Multiplayer.it, GamingTrend, GameStar, PC Invasion, Hey Poor Player, Shacknews, TheSixthAxis, The Games Machine, Noisy Pixel, Eurogamer Italy, Checkpoint Gaming, Game Revolution, Washington Post, BaziCenter, Game Rant, Player 2, Hooked Gamers, Meristation, Finger Guns, Hardcore Gamer, Gamersky, IGN Italia, Jeuxvideo.com, GameCritics, Millenium, Everyeye.it, Riot Pixels, CD-Action, Worth Playing, WellPlayed, Impulsegamer, IGN, Ragequit.gr, Wccftech, Gamer Escape, meta_score, COGconnected, Softpedia, New Game Network, SpazioGames, TheGamer, PC Games, Multiplayer.it, GamingTrend, GameStar, PC Invasion, Hey Poor Player, Shacknews, TheSixthAxis, The Games Machine, Noisy Pixel, Eurogamer Italy, Checkpoint Gaming, Game Revolution, Washington Post, BaziCenter, Game Rant, Player 2, Hooked Gamers, Meristation, Finger Guns, Hardcore Gamer, Gamersky, IGN Italia, Jeuxvideo.com, GameCritics, Millenium, Everyeye.it, Riot Pixels, CD-Action, Worth Playing, WellPlayed, Impulsegamer, IGN, Ragequit.gr, Wccftech, Gamer Escape, meta_score, COGconnected, Softpedia, New Game Network, SpazioGames, TheGamer, PC Games, Multiplayer.it, GamingTrend, GameStar, PC Invasion, Hey Poor Player, Shacknews, TheSixthAxis, The Games Machine, Noisy Pixel, Eurogamer Italy, Checkpoint Gaming, Game Revolution, Washington Post, BaziCenter, Game Rant, Player 2, Hooked Gamers, Meristation, Finger Guns, Hardcore Gamer, Gamersky, IGN Italia, Jeuxvideo.com, GameCritics, Millenium, Everyeye.it\"                                                                                                                                                                                                                                                                                                                                                                                      \n",
            "[15] \"Washington Post, BaziCenter, Game Rant, Player 2, Hooked Gamers, Meristation, Finger Guns, Hardcore Gamer, Gamersky, IGN Italia, Jeuxvideo.com, GameCritics, Millenium, Everyeye.it, Riot Pixels, CD-Action, Worth Playing, WellPlayed, Impulsegamer, IGN, Ragequit.gr, Wccftech, Gamer Escape, meta_score, COGconnected, Softpedia, New Game Network, SpazioGames, TheGamer, PC Games, Multiplayer.it, GamingTrend, GameStar, PC Invasion, Hey Poor Player, Shacknews, TheSixthAxis, The Games Machine, Noisy Pixel, Eurogamer Italy, Checkpoint Gaming, Game Revolution, Washington Post, BaziCenter, Game Rant, Player 2, Hooked Gamers, Meristation, Finger Guns, Hardcore Gamer, Gamersky, IGN Italia, Jeuxvideo.com, GameCritics, Millenium, Everyeye.it, Riot Pixels, CD-Action, Worth Playing, WellPlayed, Impulsegamer, IGN, Ragequit.gr, Wccftech, Gamer Escape, meta_score, COGconnected, Softpedia, New Game Network, SpazioGames, TheGamer, PC Games, Multiplayer.it, GamingTrend, GameStar, PC Invasion, Hey Poor Player, Shacknews, TheSixthAxis, The Games Machine, Noisy Pixel, Eurogamer Italy, Checkpoint Gaming, Game Revolution, Washington Post, BaziCenter, Game Rant, Player 2, Hooked Gamers, Meristation, Finger Guns, Hardcore Gamer, Gamersky, IGN Italia, Jeuxvideo.com, GameCritics, Millenium, Everyeye.it, Riot Pixels, CD-Action, Worth Playing, WellPlayed, Impulsegamer, IGN, Ragequit.gr, Wccftech, Gamer Escape, meta_score, COGconnected, Softpedia, New Game Network, SpazioGames, TheGamer, PC Games, Multiplayer.it, GamingTrend, GameStar, PC Invasion, Hey Poor Player, Shacknews, TheSixthAxis, The Games Machine, Noisy Pixel, Eurogamer Italy, Checkpoint Gaming, Game Revolution, Washington Post, BaziCenter, Game Rant, Player 2, Hooked Gamers, Meristation, Finger Guns, Hardcore Gamer, Gamersky, IGN Italia, Jeuxvideo.com, GameCritics, Millenium, Everyeye.it, Riot Pixels, CD-Action, Worth Playing, WellPlayed, Impulsegamer, IGN, Ragequit.gr, Wccftech, Gamer Escape, meta_score, COGconnected, Softpedia, New Game Network, SpazioGames, TheGamer, PC Games, Multiplayer.it, GamingTrend, GameStar, PC Invasion, Hey Poor Player, Shacknews, TheSixthAxis, The Games Machine, Noisy Pixel, Eurogamer Italy, Checkpoint Gaming, Game Revolution, Washington Post, BaziCenter, Game Rant, Player 2, Hooked Gamers, Meristation, Finger Guns, Hardcore Gamer, Gamersky, IGN Italia, Jeuxvideo.com, GameCritics, Millenium, Everyeye.it, Riot Pixels\"                                                                                                                                                                                                                                                                                                                                                                         \n",
            "[16] \"Washington Post, BaziCenter, Game Rant, Player 2, Hooked Gamers, Meristation, Finger Guns, Hardcore Gamer, Gamersky, IGN Italia, Jeuxvideo.com, GameCritics, Millenium, Everyeye.it, Riot Pixels, CD-Action, Worth Playing, WellPlayed, Impulsegamer, IGN, Ragequit.gr, Wccftech, Gamer Escape, meta_score, COGconnected, Softpedia, New Game Network, SpazioGames, TheGamer, PC Games, Multiplayer.it, GamingTrend, GameStar, PC Invasion, Hey Poor Player, Shacknews, TheSixthAxis, The Games Machine, Noisy Pixel, Eurogamer Italy, Checkpoint Gaming, Game Revolution, Washington Post, BaziCenter, Game Rant, Player 2, Hooked Gamers, Meristation, Finger Guns, Hardcore Gamer, Gamersky, IGN Italia, Jeuxvideo.com, GameCritics, Millenium, Everyeye.it, Riot Pixels, CD-Action, Worth Playing, WellPlayed, Impulsegamer, IGN, Ragequit.gr, Wccftech, Gamer Escape, meta_score, COGconnected, Softpedia, New Game Network, SpazioGames, TheGamer, PC Games, Multiplayer.it, GamingTrend, GameStar, PC Invasion, Hey Poor Player, Shacknews, TheSixthAxis, The Games Machine, Noisy Pixel, Eurogamer Italy, Checkpoint Gaming, Game Revolution, Washington Post, BaziCenter, Game Rant, Player 2, Hooked Gamers, Meristation, Finger Guns, Hardcore Gamer, Gamersky, IGN Italia, Jeuxvideo.com, GameCritics, Millenium, Everyeye.it, Riot Pixels, CD-Action, Worth Playing, WellPlayed, Impulsegamer, IGN, Ragequit.gr, Wccftech, Gamer Escape, meta_score, COGconnected, Softpedia, New Game Network, SpazioGames, TheGamer, PC Games, Multiplayer.it, GamingTrend, GameStar, PC Invasion, Hey Poor Player, Shacknews, TheSixthAxis, The Games Machine, Noisy Pixel, Eurogamer Italy, Checkpoint Gaming, Game Revolution, Washington Post, BaziCenter, Game Rant, Player 2, Hooked Gamers, Meristation, Finger Guns, Hardcore Gamer, Gamersky, IGN Italia, Jeuxvideo.com, GameCritics, Millenium, Everyeye.it, Riot Pixels, CD-Action, Worth Playing, WellPlayed, Impulsegamer, IGN, Ragequit.gr, Wccftech, Gamer Escape, meta_score, COGconnected, Softpedia, New Game Network, SpazioGames, TheGamer, PC Games, Multiplayer.it, GamingTrend, GameStar, PC Invasion, Hey Poor Player, Shacknews, TheSixthAxis, The Games Machine, Noisy Pixel, Eurogamer Italy, Checkpoint Gaming, Game Revolution, Washington Post, BaziCenter, Game Rant, Player 2, Hooked Gamers, Meristation, Finger Guns, Hardcore Gamer, Gamersky, IGN Italia, Jeuxvideo.com, GameCritics, Millenium, Everyeye.it, Riot Pixels, CD-Action\"                                                                                                                                                                                                                                                                                                                                                              \n",
            "[17] \"Washington Post, BaziCenter, Game Rant, Player 2, Hooked Gamers, Meristation, Finger Guns, Hardcore Gamer, Gamersky, IGN Italia, Jeuxvideo.com, GameCritics, Millenium, Everyeye.it, Riot Pixels, CD-Action, Worth Playing, WellPlayed, Impulsegamer, IGN, Ragequit.gr, Wccftech, Gamer Escape, meta_score, COGconnected, Softpedia, New Game Network, SpazioGames, TheGamer, PC Games, Multiplayer.it, GamingTrend, GameStar, PC Invasion, Hey Poor Player, Shacknews, TheSixthAxis, The Games Machine, Noisy Pixel, Eurogamer Italy, Checkpoint Gaming, Game Revolution, Washington Post, BaziCenter, Game Rant, Player 2, Hooked Gamers, Meristation, Finger Guns, Hardcore Gamer, Gamersky, IGN Italia, Jeuxvideo.com, GameCritics, Millenium, Everyeye.it, Riot Pixels, CD-Action, Worth Playing, WellPlayed, Impulsegamer, IGN, Ragequit.gr, Wccftech, Gamer Escape, meta_score, COGconnected, Softpedia, New Game Network, SpazioGames, TheGamer, PC Games, Multiplayer.it, GamingTrend, GameStar, PC Invasion, Hey Poor Player, Shacknews, TheSixthAxis, The Games Machine, Noisy Pixel, Eurogamer Italy, Checkpoint Gaming, Game Revolution, Washington Post, BaziCenter, Game Rant, Player 2, Hooked Gamers, Meristation, Finger Guns, Hardcore Gamer, Gamersky, IGN Italia, Jeuxvideo.com, GameCritics, Millenium, Everyeye.it, Riot Pixels, CD-Action, Worth Playing, WellPlayed, Impulsegamer, IGN, Ragequit.gr, Wccftech, Gamer Escape, meta_score, COGconnected, Softpedia, New Game Network, SpazioGames, TheGamer, PC Games, Multiplayer.it, GamingTrend, GameStar, PC Invasion, Hey Poor Player, Shacknews, TheSixthAxis, The Games Machine, Noisy Pixel, Eurogamer Italy, Checkpoint Gaming, Game Revolution, Washington Post, BaziCenter, Game Rant, Player 2, Hooked Gamers, Meristation, Finger Guns, Hardcore Gamer, Gamersky, IGN Italia, Jeuxvideo.com, GameCritics, Millenium, Everyeye.it, Riot Pixels, CD-Action, Worth Playing, WellPlayed, Impulsegamer, IGN, Ragequit.gr, Wccftech, Gamer Escape, meta_score, COGconnected, Softpedia, New Game Network, SpazioGames, TheGamer, PC Games, Multiplayer.it, GamingTrend, GameStar, PC Invasion, Hey Poor Player, Shacknews, TheSixthAxis, The Games Machine, Noisy Pixel, Eurogamer Italy, Checkpoint Gaming, Game Revolution, Washington Post, BaziCenter, Game Rant, Player 2, Hooked Gamers, Meristation, Finger Guns, Hardcore Gamer, Gamersky, IGN Italia, Jeuxvideo.com, GameCritics, Millenium, Everyeye.it, Riot Pixels, CD-Action, Worth Playing\"                                                                                                                                                                                                                                                                                                                                               \n",
            "[18] \"Washington Post, BaziCenter, Game Rant, Player 2, Hooked Gamers, Meristation, Finger Guns, Hardcore Gamer, Gamersky, IGN Italia, Jeuxvideo.com, GameCritics, Millenium, Everyeye.it, Riot Pixels, CD-Action, Worth Playing, WellPlayed, Impulsegamer, IGN, Ragequit.gr, Wccftech, Gamer Escape, meta_score, COGconnected, Softpedia, New Game Network, SpazioGames, TheGamer, PC Games, Multiplayer.it, GamingTrend, GameStar, PC Invasion, Hey Poor Player, Shacknews, TheSixthAxis, The Games Machine, Noisy Pixel, Eurogamer Italy, Checkpoint Gaming, Game Revolution, Washington Post, BaziCenter, Game Rant, Player 2, Hooked Gamers, Meristation, Finger Guns, Hardcore Gamer, Gamersky, IGN Italia, Jeuxvideo.com, GameCritics, Millenium, Everyeye.it, Riot Pixels, CD-Action, Worth Playing, WellPlayed, Impulsegamer, IGN, Ragequit.gr, Wccftech, Gamer Escape, meta_score, COGconnected, Softpedia, New Game Network, SpazioGames, TheGamer, PC Games, Multiplayer.it, GamingTrend, GameStar, PC Invasion, Hey Poor Player, Shacknews, TheSixthAxis, The Games Machine, Noisy Pixel, Eurogamer Italy, Checkpoint Gaming, Game Revolution, Washington Post, BaziCenter, Game Rant, Player 2, Hooked Gamers, Meristation, Finger Guns, Hardcore Gamer, Gamersky, IGN Italia, Jeuxvideo.com, GameCritics, Millenium, Everyeye.it, Riot Pixels, CD-Action, Worth Playing, WellPlayed, Impulsegamer, IGN, Ragequit.gr, Wccftech, Gamer Escape, meta_score, COGconnected, Softpedia, New Game Network, SpazioGames, TheGamer, PC Games, Multiplayer.it, GamingTrend, GameStar, PC Invasion, Hey Poor Player, Shacknews, TheSixthAxis, The Games Machine, Noisy Pixel, Eurogamer Italy, Checkpoint Gaming, Game Revolution, Washington Post, BaziCenter, Game Rant, Player 2, Hooked Gamers, Meristation, Finger Guns, Hardcore Gamer, Gamersky, IGN Italia, Jeuxvideo.com, GameCritics, Millenium, Everyeye.it, Riot Pixels, CD-Action, Worth Playing, WellPlayed, Impulsegamer, IGN, Ragequit.gr, Wccftech, Gamer Escape, meta_score, COGconnected, Softpedia, New Game Network, SpazioGames, TheGamer, PC Games, Multiplayer.it, GamingTrend, GameStar, PC Invasion, Hey Poor Player, Shacknews, TheSixthAxis, The Games Machine, Noisy Pixel, Eurogamer Italy, Checkpoint Gaming, Game Revolution, Washington Post, BaziCenter, Game Rant, Player 2, Hooked Gamers, Meristation, Finger Guns, Hardcore Gamer, Gamersky, IGN Italia, Jeuxvideo.com, GameCritics, Millenium, Everyeye.it, Riot Pixels, CD-Action, Worth Playing, WellPlayed\"                                                                                                                                                                                                                                                                                                                                   \n",
            "[19] \"Washington Post, BaziCenter, Game Rant, Player 2, Hooked Gamers, Meristation, Finger Guns, Hardcore Gamer, Gamersky, IGN Italia, Jeuxvideo.com, GameCritics, Millenium, Everyeye.it, Riot Pixels, CD-Action, Worth Playing, WellPlayed, Impulsegamer, IGN, Ragequit.gr, Wccftech, Gamer Escape, meta_score, COGconnected, Softpedia, New Game Network, SpazioGames, TheGamer, PC Games, Multiplayer.it, GamingTrend, GameStar, PC Invasion, Hey Poor Player, Shacknews, TheSixthAxis, The Games Machine, Noisy Pixel, Eurogamer Italy, Checkpoint Gaming, Game Revolution, Washington Post, BaziCenter, Game Rant, Player 2, Hooked Gamers, Meristation, Finger Guns, Hardcore Gamer, Gamersky, IGN Italia, Jeuxvideo.com, GameCritics, Millenium, Everyeye.it, Riot Pixels, CD-Action, Worth Playing, WellPlayed, Impulsegamer, IGN, Ragequit.gr, Wccftech, Gamer Escape, meta_score, COGconnected, Softpedia, New Game Network, SpazioGames, TheGamer, PC Games, Multiplayer.it, GamingTrend, GameStar, PC Invasion, Hey Poor Player, Shacknews, TheSixthAxis, The Games Machine, Noisy Pixel, Eurogamer Italy, Checkpoint Gaming, Game Revolution, Washington Post, BaziCenter, Game Rant, Player 2, Hooked Gamers, Meristation, Finger Guns, Hardcore Gamer, Gamersky, IGN Italia, Jeuxvideo.com, GameCritics, Millenium, Everyeye.it, Riot Pixels, CD-Action, Worth Playing, WellPlayed, Impulsegamer, IGN, Ragequit.gr, Wccftech, Gamer Escape, meta_score, COGconnected, Softpedia, New Game Network, SpazioGames, TheGamer, PC Games, Multiplayer.it, GamingTrend, GameStar, PC Invasion, Hey Poor Player, Shacknews, TheSixthAxis, The Games Machine, Noisy Pixel, Eurogamer Italy, Checkpoint Gaming, Game Revolution, Washington Post, BaziCenter, Game Rant, Player 2, Hooked Gamers, Meristation, Finger Guns, Hardcore Gamer, Gamersky, IGN Italia, Jeuxvideo.com, GameCritics, Millenium, Everyeye.it, Riot Pixels, CD-Action, Worth Playing, WellPlayed, Impulsegamer, IGN, Ragequit.gr, Wccftech, Gamer Escape, meta_score, COGconnected, Softpedia, New Game Network, SpazioGames, TheGamer, PC Games, Multiplayer.it, GamingTrend, GameStar, PC Invasion, Hey Poor Player, Shacknews, TheSixthAxis, The Games Machine, Noisy Pixel, Eurogamer Italy, Checkpoint Gaming, Game Revolution, Washington Post, BaziCenter, Game Rant, Player 2, Hooked Gamers, Meristation, Finger Guns, Hardcore Gamer, Gamersky, IGN Italia, Jeuxvideo.com, GameCritics, Millenium, Everyeye.it, Riot Pixels, CD-Action, Worth Playing, WellPlayed, Impulsegamer\"                                                                                                                                                                                                                                                                                                                     \n",
            "[20] \"Washington Post, BaziCenter, Game Rant, Player 2, Hooked Gamers, Meristation, Finger Guns, Hardcore Gamer, Gamersky, IGN Italia, Jeuxvideo.com, GameCritics, Millenium, Everyeye.it, Riot Pixels, CD-Action, Worth Playing, WellPlayed, Impulsegamer, IGN, Ragequit.gr, Wccftech, Gamer Escape, meta_score, COGconnected, Softpedia, New Game Network, SpazioGames, TheGamer, PC Games, Multiplayer.it, GamingTrend, GameStar, PC Invasion, Hey Poor Player, Shacknews, TheSixthAxis, The Games Machine, Noisy Pixel, Eurogamer Italy, Checkpoint Gaming, Game Revolution, Washington Post, BaziCenter, Game Rant, Player 2, Hooked Gamers, Meristation, Finger Guns, Hardcore Gamer, Gamersky, IGN Italia, Jeuxvideo.com, GameCritics, Millenium, Everyeye.it, Riot Pixels, CD-Action, Worth Playing, WellPlayed, Impulsegamer, IGN, Ragequit.gr, Wccftech, Gamer Escape, meta_score, COGconnected, Softpedia, New Game Network, SpazioGames, TheGamer, PC Games, Multiplayer.it, GamingTrend, GameStar, PC Invasion, Hey Poor Player, Shacknews, TheSixthAxis, The Games Machine, Noisy Pixel, Eurogamer Italy, Checkpoint Gaming, Game Revolution, Washington Post, BaziCenter, Game Rant, Player 2, Hooked Gamers, Meristation, Finger Guns, Hardcore Gamer, Gamersky, IGN Italia, Jeuxvideo.com, GameCritics, Millenium, Everyeye.it, Riot Pixels, CD-Action, Worth Playing, WellPlayed, Impulsegamer, IGN, Ragequit.gr, Wccftech, Gamer Escape, meta_score, COGconnected, Softpedia, New Game Network, SpazioGames, TheGamer, PC Games, Multiplayer.it, GamingTrend, GameStar, PC Invasion, Hey Poor Player, Shacknews, TheSixthAxis, The Games Machine, Noisy Pixel, Eurogamer Italy, Checkpoint Gaming, Game Revolution, Washington Post, BaziCenter, Game Rant, Player 2, Hooked Gamers, Meristation, Finger Guns, Hardcore Gamer, Gamersky, IGN Italia, Jeuxvideo.com, GameCritics, Millenium, Everyeye.it, Riot Pixels, CD-Action, Worth Playing, WellPlayed, Impulsegamer, IGN, Ragequit.gr, Wccftech, Gamer Escape, meta_score, COGconnected, Softpedia, New Game Network, SpazioGames, TheGamer, PC Games, Multiplayer.it, GamingTrend, GameStar, PC Invasion, Hey Poor Player, Shacknews, TheSixthAxis, The Games Machine, Noisy Pixel, Eurogamer Italy, Checkpoint Gaming, Game Revolution, Washington Post, BaziCenter, Game Rant, Player 2, Hooked Gamers, Meristation, Finger Guns, Hardcore Gamer, Gamersky, IGN Italia, Jeuxvideo.com, GameCritics, Millenium, Everyeye.it, Riot Pixels, CD-Action, Worth Playing, WellPlayed, Impulsegamer, IGN\"                                                                                                                                                                                                                                                                                                                \n",
            "[21] \"Washington Post, BaziCenter, Game Rant, Player 2, Hooked Gamers, Meristation, Finger Guns, Hardcore Gamer, Gamersky, IGN Italia, Jeuxvideo.com, GameCritics, Millenium, Everyeye.it, Riot Pixels, CD-Action, Worth Playing, WellPlayed, Impulsegamer, IGN, Ragequit.gr, Wccftech, Gamer Escape, meta_score, COGconnected, Softpedia, New Game Network, SpazioGames, TheGamer, PC Games, Multiplayer.it, GamingTrend, GameStar, PC Invasion, Hey Poor Player, Shacknews, TheSixthAxis, The Games Machine, Noisy Pixel, Eurogamer Italy, Checkpoint Gaming, Game Revolution, Washington Post, BaziCenter, Game Rant, Player 2, Hooked Gamers, Meristation, Finger Guns, Hardcore Gamer, Gamersky, IGN Italia, Jeuxvideo.com, GameCritics, Millenium, Everyeye.it, Riot Pixels, CD-Action, Worth Playing, WellPlayed, Impulsegamer, IGN, Ragequit.gr, Wccftech, Gamer Escape, meta_score, COGconnected, Softpedia, New Game Network, SpazioGames, TheGamer, PC Games, Multiplayer.it, GamingTrend, GameStar, PC Invasion, Hey Poor Player, Shacknews, TheSixthAxis, The Games Machine, Noisy Pixel, Eurogamer Italy, Checkpoint Gaming, Game Revolution, Washington Post, BaziCenter, Game Rant, Player 2, Hooked Gamers, Meristation, Finger Guns, Hardcore Gamer, Gamersky, IGN Italia, Jeuxvideo.com, GameCritics, Millenium, Everyeye.it, Riot Pixels, CD-Action, Worth Playing, WellPlayed, Impulsegamer, IGN, Ragequit.gr, Wccftech, Gamer Escape, meta_score, COGconnected, Softpedia, New Game Network, SpazioGames, TheGamer, PC Games, Multiplayer.it, GamingTrend, GameStar, PC Invasion, Hey Poor Player, Shacknews, TheSixthAxis, The Games Machine, Noisy Pixel, Eurogamer Italy, Checkpoint Gaming, Game Revolution, Washington Post, BaziCenter, Game Rant, Player 2, Hooked Gamers, Meristation, Finger Guns, Hardcore Gamer, Gamersky, IGN Italia, Jeuxvideo.com, GameCritics, Millenium, Everyeye.it, Riot Pixels, CD-Action, Worth Playing, WellPlayed, Impulsegamer, IGN, Ragequit.gr, Wccftech, Gamer Escape, meta_score, COGconnected, Softpedia, New Game Network, SpazioGames, TheGamer, PC Games, Multiplayer.it, GamingTrend, GameStar, PC Invasion, Hey Poor Player, Shacknews, TheSixthAxis, The Games Machine, Noisy Pixel, Eurogamer Italy, Checkpoint Gaming, Game Revolution, Washington Post, BaziCenter, Game Rant, Player 2, Hooked Gamers, Meristation, Finger Guns, Hardcore Gamer, Gamersky, IGN Italia, Jeuxvideo.com, GameCritics, Millenium, Everyeye.it, Riot Pixels, CD-Action, Worth Playing, WellPlayed, Impulsegamer, IGN, Ragequit.gr\"                                                                                                                                                                                                                                                                                                   \n",
            "[22] \"Washington Post, BaziCenter, Game Rant, Player 2, Hooked Gamers, Meristation, Finger Guns, Hardcore Gamer, Gamersky, IGN Italia, Jeuxvideo.com, GameCritics, Millenium, Everyeye.it, Riot Pixels, CD-Action, Worth Playing, WellPlayed, Impulsegamer, IGN, Ragequit.gr, Wccftech, Gamer Escape, meta_score, COGconnected, Softpedia, New Game Network, SpazioGames, TheGamer, PC Games, Multiplayer.it, GamingTrend, GameStar, PC Invasion, Hey Poor Player, Shacknews, TheSixthAxis, The Games Machine, Noisy Pixel, Eurogamer Italy, Checkpoint Gaming, Game Revolution, Washington Post, BaziCenter, Game Rant, Player 2, Hooked Gamers, Meristation, Finger Guns, Hardcore Gamer, Gamersky, IGN Italia, Jeuxvideo.com, GameCritics, Millenium, Everyeye.it, Riot Pixels, CD-Action, Worth Playing, WellPlayed, Impulsegamer, IGN, Ragequit.gr, Wccftech, Gamer Escape, meta_score, COGconnected, Softpedia, New Game Network, SpazioGames, TheGamer, PC Games, Multiplayer.it, GamingTrend, GameStar, PC Invasion, Hey Poor Player, Shacknews, TheSixthAxis, The Games Machine, Noisy Pixel, Eurogamer Italy, Checkpoint Gaming, Game Revolution, Washington Post, BaziCenter, Game Rant, Player 2, Hooked Gamers, Meristation, Finger Guns, Hardcore Gamer, Gamersky, IGN Italia, Jeuxvideo.com, GameCritics, Millenium, Everyeye.it, Riot Pixels, CD-Action, Worth Playing, WellPlayed, Impulsegamer, IGN, Ragequit.gr, Wccftech, Gamer Escape, meta_score, COGconnected, Softpedia, New Game Network, SpazioGames, TheGamer, PC Games, Multiplayer.it, GamingTrend, GameStar, PC Invasion, Hey Poor Player, Shacknews, TheSixthAxis, The Games Machine, Noisy Pixel, Eurogamer Italy, Checkpoint Gaming, Game Revolution, Washington Post, BaziCenter, Game Rant, Player 2, Hooked Gamers, Meristation, Finger Guns, Hardcore Gamer, Gamersky, IGN Italia, Jeuxvideo.com, GameCritics, Millenium, Everyeye.it, Riot Pixels, CD-Action, Worth Playing, WellPlayed, Impulsegamer, IGN, Ragequit.gr, Wccftech, Gamer Escape, meta_score, COGconnected, Softpedia, New Game Network, SpazioGames, TheGamer, PC Games, Multiplayer.it, GamingTrend, GameStar, PC Invasion, Hey Poor Player, Shacknews, TheSixthAxis, The Games Machine, Noisy Pixel, Eurogamer Italy, Checkpoint Gaming, Game Revolution, Washington Post, BaziCenter, Game Rant, Player 2, Hooked Gamers, Meristation, Finger Guns, Hardcore Gamer, Gamersky, IGN Italia, Jeuxvideo.com, GameCritics, Millenium, Everyeye.it, Riot Pixels, CD-Action, Worth Playing, WellPlayed, Impulsegamer, IGN, Ragequit.gr, Wccftech\"                                                                                                                                                                                                                                                                                         \n",
            "[23] \"Washington Post, BaziCenter, Game Rant, Player 2, Hooked Gamers, Meristation, Finger Guns, Hardcore Gamer, Gamersky, IGN Italia, Jeuxvideo.com, GameCritics, Millenium, Everyeye.it, Riot Pixels, CD-Action, Worth Playing, WellPlayed, Impulsegamer, IGN, Ragequit.gr, Wccftech, Gamer Escape, meta_score, COGconnected, Softpedia, New Game Network, SpazioGames, TheGamer, PC Games, Multiplayer.it, GamingTrend, GameStar, PC Invasion, Hey Poor Player, Shacknews, TheSixthAxis, The Games Machine, Noisy Pixel, Eurogamer Italy, Checkpoint Gaming, Game Revolution, Washington Post, BaziCenter, Game Rant, Player 2, Hooked Gamers, Meristation, Finger Guns, Hardcore Gamer, Gamersky, IGN Italia, Jeuxvideo.com, GameCritics, Millenium, Everyeye.it, Riot Pixels, CD-Action, Worth Playing, WellPlayed, Impulsegamer, IGN, Ragequit.gr, Wccftech, Gamer Escape, meta_score, COGconnected, Softpedia, New Game Network, SpazioGames, TheGamer, PC Games, Multiplayer.it, GamingTrend, GameStar, PC Invasion, Hey Poor Player, Shacknews, TheSixthAxis, The Games Machine, Noisy Pixel, Eurogamer Italy, Checkpoint Gaming, Game Revolution, Washington Post, BaziCenter, Game Rant, Player 2, Hooked Gamers, Meristation, Finger Guns, Hardcore Gamer, Gamersky, IGN Italia, Jeuxvideo.com, GameCritics, Millenium, Everyeye.it, Riot Pixels, CD-Action, Worth Playing, WellPlayed, Impulsegamer, IGN, Ragequit.gr, Wccftech, Gamer Escape, meta_score, COGconnected, Softpedia, New Game Network, SpazioGames, TheGamer, PC Games, Multiplayer.it, GamingTrend, GameStar, PC Invasion, Hey Poor Player, Shacknews, TheSixthAxis, The Games Machine, Noisy Pixel, Eurogamer Italy, Checkpoint Gaming, Game Revolution, Washington Post, BaziCenter, Game Rant, Player 2, Hooked Gamers, Meristation, Finger Guns, Hardcore Gamer, Gamersky, IGN Italia, Jeuxvideo.com, GameCritics, Millenium, Everyeye.it, Riot Pixels, CD-Action, Worth Playing, WellPlayed, Impulsegamer, IGN, Ragequit.gr, Wccftech, Gamer Escape, meta_score, COGconnected, Softpedia, New Game Network, SpazioGames, TheGamer, PC Games, Multiplayer.it, GamingTrend, GameStar, PC Invasion, Hey Poor Player, Shacknews, TheSixthAxis, The Games Machine, Noisy Pixel, Eurogamer Italy, Checkpoint Gaming, Game Revolution, Washington Post, BaziCenter, Game Rant, Player 2, Hooked Gamers, Meristation, Finger Guns, Hardcore Gamer, Gamersky, IGN Italia, Jeuxvideo.com, GameCritics, Millenium, Everyeye.it, Riot Pixels, CD-Action, Worth Playing, WellPlayed, Impulsegamer, IGN, Ragequit.gr, Wccftech, Gamer Escape\"                                                                                                                                                                                                                                                                           \n",
            "[24] \"Washington Post, BaziCenter, Game Rant, Player 2, Hooked Gamers, Meristation, Finger Guns, Hardcore Gamer, Gamersky, IGN Italia, Jeuxvideo.com, GameCritics, Millenium, Everyeye.it, Riot Pixels, CD-Action, Worth Playing, WellPlayed, Impulsegamer, IGN, Ragequit.gr, Wccftech, Gamer Escape, meta_score, COGconnected, Softpedia, New Game Network, SpazioGames, TheGamer, PC Games, Multiplayer.it, GamingTrend, GameStar, PC Invasion, Hey Poor Player, Shacknews, TheSixthAxis, The Games Machine, Noisy Pixel, Eurogamer Italy, Checkpoint Gaming, Game Revolution, Washington Post, BaziCenter, Game Rant, Player 2, Hooked Gamers, Meristation, Finger Guns, Hardcore Gamer, Gamersky, IGN Italia, Jeuxvideo.com, GameCritics, Millenium, Everyeye.it, Riot Pixels, CD-Action, Worth Playing, WellPlayed, Impulsegamer, IGN, Ragequit.gr, Wccftech, Gamer Escape, meta_score, COGconnected, Softpedia, New Game Network, SpazioGames, TheGamer, PC Games, Multiplayer.it, GamingTrend, GameStar, PC Invasion, Hey Poor Player, Shacknews, TheSixthAxis, The Games Machine, Noisy Pixel, Eurogamer Italy, Checkpoint Gaming, Game Revolution, Washington Post, BaziCenter, Game Rant, Player 2, Hooked Gamers, Meristation, Finger Guns, Hardcore Gamer, Gamersky, IGN Italia, Jeuxvideo.com, GameCritics, Millenium, Everyeye.it, Riot Pixels, CD-Action, Worth Playing, WellPlayed, Impulsegamer, IGN, Ragequit.gr, Wccftech, Gamer Escape, meta_score, COGconnected, Softpedia, New Game Network, SpazioGames, TheGamer, PC Games, Multiplayer.it, GamingTrend, GameStar, PC Invasion, Hey Poor Player, Shacknews, TheSixthAxis, The Games Machine, Noisy Pixel, Eurogamer Italy, Checkpoint Gaming, Game Revolution, Washington Post, BaziCenter, Game Rant, Player 2, Hooked Gamers, Meristation, Finger Guns, Hardcore Gamer, Gamersky, IGN Italia, Jeuxvideo.com, GameCritics, Millenium, Everyeye.it, Riot Pixels, CD-Action, Worth Playing, WellPlayed, Impulsegamer, IGN, Ragequit.gr, Wccftech, Gamer Escape, meta_score, COGconnected, Softpedia, New Game Network, SpazioGames, TheGamer, PC Games, Multiplayer.it, GamingTrend, GameStar, PC Invasion, Hey Poor Player, Shacknews, TheSixthAxis, The Games Machine, Noisy Pixel, Eurogamer Italy, Checkpoint Gaming, Game Revolution, Washington Post, BaziCenter, Game Rant, Player 2, Hooked Gamers, Meristation, Finger Guns, Hardcore Gamer, Gamersky, IGN Italia, Jeuxvideo.com, GameCritics, Millenium, Everyeye.it, Riot Pixels, CD-Action, Worth Playing, WellPlayed, Impulsegamer, IGN, Ragequit.gr, Wccftech, Gamer Escape, meta_score\"                                                                                                                                                                                                                                                               \n",
            "[25] \"Washington Post, BaziCenter, Game Rant, Player 2, Hooked Gamers, Meristation, Finger Guns, Hardcore Gamer, Gamersky, IGN Italia, Jeuxvideo.com, GameCritics, Millenium, Everyeye.it, Riot Pixels, CD-Action, Worth Playing, WellPlayed, Impulsegamer, IGN, Ragequit.gr, Wccftech, Gamer Escape, meta_score, COGconnected, Softpedia, New Game Network, SpazioGames, TheGamer, PC Games, Multiplayer.it, GamingTrend, GameStar, PC Invasion, Hey Poor Player, Shacknews, TheSixthAxis, The Games Machine, Noisy Pixel, Eurogamer Italy, Checkpoint Gaming, Game Revolution, Washington Post, BaziCenter, Game Rant, Player 2, Hooked Gamers, Meristation, Finger Guns, Hardcore Gamer, Gamersky, IGN Italia, Jeuxvideo.com, GameCritics, Millenium, Everyeye.it, Riot Pixels, CD-Action, Worth Playing, WellPlayed, Impulsegamer, IGN, Ragequit.gr, Wccftech, Gamer Escape, meta_score, COGconnected, Softpedia, New Game Network, SpazioGames, TheGamer, PC Games, Multiplayer.it, GamingTrend, GameStar, PC Invasion, Hey Poor Player, Shacknews, TheSixthAxis, The Games Machine, Noisy Pixel, Eurogamer Italy, Checkpoint Gaming, Game Revolution, Washington Post, BaziCenter, Game Rant, Player 2, Hooked Gamers, Meristation, Finger Guns, Hardcore Gamer, Gamersky, IGN Italia, Jeuxvideo.com, GameCritics, Millenium, Everyeye.it, Riot Pixels, CD-Action, Worth Playing, WellPlayed, Impulsegamer, IGN, Ragequit.gr, Wccftech, Gamer Escape, meta_score, COGconnected, Softpedia, New Game Network, SpazioGames, TheGamer, PC Games, Multiplayer.it, GamingTrend, GameStar, PC Invasion, Hey Poor Player, Shacknews, TheSixthAxis, The Games Machine, Noisy Pixel, Eurogamer Italy, Checkpoint Gaming, Game Revolution, Washington Post, BaziCenter, Game Rant, Player 2, Hooked Gamers, Meristation, Finger Guns, Hardcore Gamer, Gamersky, IGN Italia, Jeuxvideo.com, GameCritics, Millenium, Everyeye.it, Riot Pixels, CD-Action, Worth Playing, WellPlayed, Impulsegamer, IGN, Ragequit.gr, Wccftech, Gamer Escape, meta_score, COGconnected, Softpedia, New Game Network, SpazioGames, TheGamer, PC Games, Multiplayer.it, GamingTrend, GameStar, PC Invasion, Hey Poor Player, Shacknews, TheSixthAxis, The Games Machine, Noisy Pixel, Eurogamer Italy, Checkpoint Gaming, Game Revolution, Washington Post, BaziCenter, Game Rant, Player 2, Hooked Gamers, Meristation, Finger Guns, Hardcore Gamer, Gamersky, IGN Italia, Jeuxvideo.com, GameCritics, Millenium, Everyeye.it, Riot Pixels, CD-Action, Worth Playing, WellPlayed, Impulsegamer, IGN, Ragequit.gr, Wccftech, Gamer Escape, meta_score, COGconnected\"                                                                                                                                                                                                                                                 \n",
            "[26] \"Washington Post, BaziCenter, Game Rant, Player 2, Hooked Gamers, Meristation, Finger Guns, Hardcore Gamer, Gamersky, IGN Italia, Jeuxvideo.com, GameCritics, Millenium, Everyeye.it, Riot Pixels, CD-Action, Worth Playing, WellPlayed, Impulsegamer, IGN, Ragequit.gr, Wccftech, Gamer Escape, meta_score, COGconnected, Softpedia, New Game Network, SpazioGames, TheGamer, PC Games, Multiplayer.it, GamingTrend, GameStar, PC Invasion, Hey Poor Player, Shacknews, TheSixthAxis, The Games Machine, Noisy Pixel, Eurogamer Italy, Checkpoint Gaming, Game Revolution, Washington Post, BaziCenter, Game Rant, Player 2, Hooked Gamers, Meristation, Finger Guns, Hardcore Gamer, Gamersky, IGN Italia, Jeuxvideo.com, GameCritics, Millenium, Everyeye.it, Riot Pixels, CD-Action, Worth Playing, WellPlayed, Impulsegamer, IGN, Ragequit.gr, Wccftech, Gamer Escape, meta_score, COGconnected, Softpedia, New Game Network, SpazioGames, TheGamer, PC Games, Multiplayer.it, GamingTrend, GameStar, PC Invasion, Hey Poor Player, Shacknews, TheSixthAxis, The Games Machine, Noisy Pixel, Eurogamer Italy, Checkpoint Gaming, Game Revolution, Washington Post, BaziCenter, Game Rant, Player 2, Hooked Gamers, Meristation, Finger Guns, Hardcore Gamer, Gamersky, IGN Italia, Jeuxvideo.com, GameCritics, Millenium, Everyeye.it, Riot Pixels, CD-Action, Worth Playing, WellPlayed, Impulsegamer, IGN, Ragequit.gr, Wccftech, Gamer Escape, meta_score, COGconnected, Softpedia, New Game Network, SpazioGames, TheGamer, PC Games, Multiplayer.it, GamingTrend, GameStar, PC Invasion, Hey Poor Player, Shacknews, TheSixthAxis, The Games Machine, Noisy Pixel, Eurogamer Italy, Checkpoint Gaming, Game Revolution, Washington Post, BaziCenter, Game Rant, Player 2, Hooked Gamers, Meristation, Finger Guns, Hardcore Gamer, Gamersky, IGN Italia, Jeuxvideo.com, GameCritics, Millenium, Everyeye.it, Riot Pixels, CD-Action, Worth Playing, WellPlayed, Impulsegamer, IGN, Ragequit.gr, Wccftech, Gamer Escape, meta_score, COGconnected, Softpedia, New Game Network, SpazioGames, TheGamer, PC Games, Multiplayer.it, GamingTrend, GameStar, PC Invasion, Hey Poor Player, Shacknews, TheSixthAxis, The Games Machine, Noisy Pixel, Eurogamer Italy, Checkpoint Gaming, Game Revolution, Washington Post, BaziCenter, Game Rant, Player 2, Hooked Gamers, Meristation, Finger Guns, Hardcore Gamer, Gamersky, IGN Italia, Jeuxvideo.com, GameCritics, Millenium, Everyeye.it, Riot Pixels, CD-Action, Worth Playing, WellPlayed, Impulsegamer, IGN, Ragequit.gr, Wccftech, Gamer Escape, meta_score, COGconnected, Softpedia\"                                                                                                                                                                                                                                      \n",
            "[27] \"Washington Post, BaziCenter, Game Rant, Player 2, Hooked Gamers, Meristation, Finger Guns, Hardcore Gamer, Gamersky, IGN Italia, Jeuxvideo.com, GameCritics, Millenium, Everyeye.it, Riot Pixels, CD-Action, Worth Playing, WellPlayed, Impulsegamer, IGN, Ragequit.gr, Wccftech, Gamer Escape, meta_score, COGconnected, Softpedia, New Game Network, SpazioGames, TheGamer, PC Games, Multiplayer.it, GamingTrend, GameStar, PC Invasion, Hey Poor Player, Shacknews, TheSixthAxis, The Games Machine, Noisy Pixel, Eurogamer Italy, Checkpoint Gaming, Game Revolution, Washington Post, BaziCenter, Game Rant, Player 2, Hooked Gamers, Meristation, Finger Guns, Hardcore Gamer, Gamersky, IGN Italia, Jeuxvideo.com, GameCritics, Millenium, Everyeye.it, Riot Pixels, CD-Action, Worth Playing, WellPlayed, Impulsegamer, IGN, Ragequit.gr, Wccftech, Gamer Escape, meta_score, COGconnected, Softpedia, New Game Network, SpazioGames, TheGamer, PC Games, Multiplayer.it, GamingTrend, GameStar, PC Invasion, Hey Poor Player, Shacknews, TheSixthAxis, The Games Machine, Noisy Pixel, Eurogamer Italy, Checkpoint Gaming, Game Revolution, Washington Post, BaziCenter, Game Rant, Player 2, Hooked Gamers, Meristation, Finger Guns, Hardcore Gamer, Gamersky, IGN Italia, Jeuxvideo.com, GameCritics, Millenium, Everyeye.it, Riot Pixels, CD-Action, Worth Playing, WellPlayed, Impulsegamer, IGN, Ragequit.gr, Wccftech, Gamer Escape, meta_score, COGconnected, Softpedia, New Game Network, SpazioGames, TheGamer, PC Games, Multiplayer.it, GamingTrend, GameStar, PC Invasion, Hey Poor Player, Shacknews, TheSixthAxis, The Games Machine, Noisy Pixel, Eurogamer Italy, Checkpoint Gaming, Game Revolution, Washington Post, BaziCenter, Game Rant, Player 2, Hooked Gamers, Meristation, Finger Guns, Hardcore Gamer, Gamersky, IGN Italia, Jeuxvideo.com, GameCritics, Millenium, Everyeye.it, Riot Pixels, CD-Action, Worth Playing, WellPlayed, Impulsegamer, IGN, Ragequit.gr, Wccftech, Gamer Escape, meta_score, COGconnected, Softpedia, New Game Network, SpazioGames, TheGamer, PC Games, Multiplayer.it, GamingTrend, GameStar, PC Invasion, Hey Poor Player, Shacknews, TheSixthAxis, The Games Machine, Noisy Pixel, Eurogamer Italy, Checkpoint Gaming, Game Revolution, Washington Post, BaziCenter, Game Rant, Player 2, Hooked Gamers, Meristation, Finger Guns, Hardcore Gamer, Gamersky, IGN Italia, Jeuxvideo.com, GameCritics, Millenium, Everyeye.it, Riot Pixels, CD-Action, Worth Playing, WellPlayed, Impulsegamer, IGN, Ragequit.gr, Wccftech, Gamer Escape, meta_score, COGconnected, Softpedia, New Game Network\"                                                                                                                                                                                                                    \n",
            "[28] \"Washington Post, BaziCenter, Game Rant, Player 2, Hooked Gamers, Meristation, Finger Guns, Hardcore Gamer, Gamersky, IGN Italia, Jeuxvideo.com, GameCritics, Millenium, Everyeye.it, Riot Pixels, CD-Action, Worth Playing, WellPlayed, Impulsegamer, IGN, Ragequit.gr, Wccftech, Gamer Escape, meta_score, COGconnected, Softpedia, New Game Network, SpazioGames, TheGamer, PC Games, Multiplayer.it, GamingTrend, GameStar, PC Invasion, Hey Poor Player, Shacknews, TheSixthAxis, The Games Machine, Noisy Pixel, Eurogamer Italy, Checkpoint Gaming, Game Revolution, Washington Post, BaziCenter, Game Rant, Player 2, Hooked Gamers, Meristation, Finger Guns, Hardcore Gamer, Gamersky, IGN Italia, Jeuxvideo.com, GameCritics, Millenium, Everyeye.it, Riot Pixels, CD-Action, Worth Playing, WellPlayed, Impulsegamer, IGN, Ragequit.gr, Wccftech, Gamer Escape, meta_score, COGconnected, Softpedia, New Game Network, SpazioGames, TheGamer, PC Games, Multiplayer.it, GamingTrend, GameStar, PC Invasion, Hey Poor Player, Shacknews, TheSixthAxis, The Games Machine, Noisy Pixel, Eurogamer Italy, Checkpoint Gaming, Game Revolution, Washington Post, BaziCenter, Game Rant, Player 2, Hooked Gamers, Meristation, Finger Guns, Hardcore Gamer, Gamersky, IGN Italia, Jeuxvideo.com, GameCritics, Millenium, Everyeye.it, Riot Pixels, CD-Action, Worth Playing, WellPlayed, Impulsegamer, IGN, Ragequit.gr, Wccftech, Gamer Escape, meta_score, COGconnected, Softpedia, New Game Network, SpazioGames, TheGamer, PC Games, Multiplayer.it, GamingTrend, GameStar, PC Invasion, Hey Poor Player, Shacknews, TheSixthAxis, The Games Machine, Noisy Pixel, Eurogamer Italy, Checkpoint Gaming, Game Revolution, Washington Post, BaziCenter, Game Rant, Player 2, Hooked Gamers, Meristation, Finger Guns, Hardcore Gamer, Gamersky, IGN Italia, Jeuxvideo.com, GameCritics, Millenium, Everyeye.it, Riot Pixels, CD-Action, Worth Playing, WellPlayed, Impulsegamer, IGN, Ragequit.gr, Wccftech, Gamer Escape, meta_score, COGconnected, Softpedia, New Game Network, SpazioGames, TheGamer, PC Games, Multiplayer.it, GamingTrend, GameStar, PC Invasion, Hey Poor Player, Shacknews, TheSixthAxis, The Games Machine, Noisy Pixel, Eurogamer Italy, Checkpoint Gaming, Game Revolution, Washington Post, BaziCenter, Game Rant, Player 2, Hooked Gamers, Meristation, Finger Guns, Hardcore Gamer, Gamersky, IGN Italia, Jeuxvideo.com, GameCritics, Millenium, Everyeye.it, Riot Pixels, CD-Action, Worth Playing, WellPlayed, Impulsegamer, IGN, Ragequit.gr, Wccftech, Gamer Escape, meta_score, COGconnected, Softpedia, New Game Network, SpazioGames\"                                                                                                                                                                                                       \n",
            "[29] \"Washington Post, BaziCenter, Game Rant, Player 2, Hooked Gamers, Meristation, Finger Guns, Hardcore Gamer, Gamersky, IGN Italia, Jeuxvideo.com, GameCritics, Millenium, Everyeye.it, Riot Pixels, CD-Action, Worth Playing, WellPlayed, Impulsegamer, IGN, Ragequit.gr, Wccftech, Gamer Escape, meta_score, COGconnected, Softpedia, New Game Network, SpazioGames, TheGamer, PC Games, Multiplayer.it, GamingTrend, GameStar, PC Invasion, Hey Poor Player, Shacknews, TheSixthAxis, The Games Machine, Noisy Pixel, Eurogamer Italy, Checkpoint Gaming, Game Revolution, Washington Post, BaziCenter, Game Rant, Player 2, Hooked Gamers, Meristation, Finger Guns, Hardcore Gamer, Gamersky, IGN Italia, Jeuxvideo.com, GameCritics, Millenium, Everyeye.it, Riot Pixels, CD-Action, Worth Playing, WellPlayed, Impulsegamer, IGN, Ragequit.gr, Wccftech, Gamer Escape, meta_score, COGconnected, Softpedia, New Game Network, SpazioGames, TheGamer, PC Games, Multiplayer.it, GamingTrend, GameStar, PC Invasion, Hey Poor Player, Shacknews, TheSixthAxis, The Games Machine, Noisy Pixel, Eurogamer Italy, Checkpoint Gaming, Game Revolution, Washington Post, BaziCenter, Game Rant, Player 2, Hooked Gamers, Meristation, Finger Guns, Hardcore Gamer, Gamersky, IGN Italia, Jeuxvideo.com, GameCritics, Millenium, Everyeye.it, Riot Pixels, CD-Action, Worth Playing, WellPlayed, Impulsegamer, IGN, Ragequit.gr, Wccftech, Gamer Escape, meta_score, COGconnected, Softpedia, New Game Network, SpazioGames, TheGamer, PC Games, Multiplayer.it, GamingTrend, GameStar, PC Invasion, Hey Poor Player, Shacknews, TheSixthAxis, The Games Machine, Noisy Pixel, Eurogamer Italy, Checkpoint Gaming, Game Revolution, Washington Post, BaziCenter, Game Rant, Player 2, Hooked Gamers, Meristation, Finger Guns, Hardcore Gamer, Gamersky, IGN Italia, Jeuxvideo.com, GameCritics, Millenium, Everyeye.it, Riot Pixels, CD-Action, Worth Playing, WellPlayed, Impulsegamer, IGN, Ragequit.gr, Wccftech, Gamer Escape, meta_score, COGconnected, Softpedia, New Game Network, SpazioGames, TheGamer, PC Games, Multiplayer.it, GamingTrend, GameStar, PC Invasion, Hey Poor Player, Shacknews, TheSixthAxis, The Games Machine, Noisy Pixel, Eurogamer Italy, Checkpoint Gaming, Game Revolution, Washington Post, BaziCenter, Game Rant, Player 2, Hooked Gamers, Meristation, Finger Guns, Hardcore Gamer, Gamersky, IGN Italia, Jeuxvideo.com, GameCritics, Millenium, Everyeye.it, Riot Pixels, CD-Action, Worth Playing, WellPlayed, Impulsegamer, IGN, Ragequit.gr, Wccftech, Gamer Escape, meta_score, COGconnected, Softpedia, New Game Network, SpazioGames, TheGamer\"                                                                                                                                                                                             \n",
            "[30] \"Washington Post, BaziCenter, Game Rant, Player 2, Hooked Gamers, Meristation, Finger Guns, Hardcore Gamer, Gamersky, IGN Italia, Jeuxvideo.com, GameCritics, Millenium, Everyeye.it, Riot Pixels, CD-Action, Worth Playing, WellPlayed, Impulsegamer, IGN, Ragequit.gr, Wccftech, Gamer Escape, meta_score, COGconnected, Softpedia, New Game Network, SpazioGames, TheGamer, PC Games, Multiplayer.it, GamingTrend, GameStar, PC Invasion, Hey Poor Player, Shacknews, TheSixthAxis, The Games Machine, Noisy Pixel, Eurogamer Italy, Checkpoint Gaming, Game Revolution, Washington Post, BaziCenter, Game Rant, Player 2, Hooked Gamers, Meristation, Finger Guns, Hardcore Gamer, Gamersky, IGN Italia, Jeuxvideo.com, GameCritics, Millenium, Everyeye.it, Riot Pixels, CD-Action, Worth Playing, WellPlayed, Impulsegamer, IGN, Ragequit.gr, Wccftech, Gamer Escape, meta_score, COGconnected, Softpedia, New Game Network, SpazioGames, TheGamer, PC Games, Multiplayer.it, GamingTrend, GameStar, PC Invasion, Hey Poor Player, Shacknews, TheSixthAxis, The Games Machine, Noisy Pixel, Eurogamer Italy, Checkpoint Gaming, Game Revolution, Washington Post, BaziCenter, Game Rant, Player 2, Hooked Gamers, Meristation, Finger Guns, Hardcore Gamer, Gamersky, IGN Italia, Jeuxvideo.com, GameCritics, Millenium, Everyeye.it, Riot Pixels, CD-Action, Worth Playing, WellPlayed, Impulsegamer, IGN, Ragequit.gr, Wccftech, Gamer Escape, meta_score, COGconnected, Softpedia, New Game Network, SpazioGames, TheGamer, PC Games, Multiplayer.it, GamingTrend, GameStar, PC Invasion, Hey Poor Player, Shacknews, TheSixthAxis, The Games Machine, Noisy Pixel, Eurogamer Italy, Checkpoint Gaming, Game Revolution, Washington Post, BaziCenter, Game Rant, Player 2, Hooked Gamers, Meristation, Finger Guns, Hardcore Gamer, Gamersky, IGN Italia, Jeuxvideo.com, GameCritics, Millenium, Everyeye.it, Riot Pixels, CD-Action, Worth Playing, WellPlayed, Impulsegamer, IGN, Ragequit.gr, Wccftech, Gamer Escape, meta_score, COGconnected, Softpedia, New Game Network, SpazioGames, TheGamer, PC Games, Multiplayer.it, GamingTrend, GameStar, PC Invasion, Hey Poor Player, Shacknews, TheSixthAxis, The Games Machine, Noisy Pixel, Eurogamer Italy, Checkpoint Gaming, Game Revolution, Washington Post, BaziCenter, Game Rant, Player 2, Hooked Gamers, Meristation, Finger Guns, Hardcore Gamer, Gamersky, IGN Italia, Jeuxvideo.com, GameCritics, Millenium, Everyeye.it, Riot Pixels, CD-Action, Worth Playing, WellPlayed, Impulsegamer, IGN, Ragequit.gr, Wccftech, Gamer Escape, meta_score, COGconnected, Softpedia, New Game Network, SpazioGames, TheGamer, PC Games\"                                                                                                                                                                                   \n",
            "[31] \"Washington Post, BaziCenter, Game Rant, Player 2, Hooked Gamers, Meristation, Finger Guns, Hardcore Gamer, Gamersky, IGN Italia, Jeuxvideo.com, GameCritics, Millenium, Everyeye.it, Riot Pixels, CD-Action, Worth Playing, WellPlayed, Impulsegamer, IGN, Ragequit.gr, Wccftech, Gamer Escape, meta_score, COGconnected, Softpedia, New Game Network, SpazioGames, TheGamer, PC Games, Multiplayer.it, GamingTrend, GameStar, PC Invasion, Hey Poor Player, Shacknews, TheSixthAxis, The Games Machine, Noisy Pixel, Eurogamer Italy, Checkpoint Gaming, Game Revolution, Washington Post, BaziCenter, Game Rant, Player 2, Hooked Gamers, Meristation, Finger Guns, Hardcore Gamer, Gamersky, IGN Italia, Jeuxvideo.com, GameCritics, Millenium, Everyeye.it, Riot Pixels, CD-Action, Worth Playing, WellPlayed, Impulsegamer, IGN, Ragequit.gr, Wccftech, Gamer Escape, meta_score, COGconnected, Softpedia, New Game Network, SpazioGames, TheGamer, PC Games, Multiplayer.it, GamingTrend, GameStar, PC Invasion, Hey Poor Player, Shacknews, TheSixthAxis, The Games Machine, Noisy Pixel, Eurogamer Italy, Checkpoint Gaming, Game Revolution, Washington Post, BaziCenter, Game Rant, Player 2, Hooked Gamers, Meristation, Finger Guns, Hardcore Gamer, Gamersky, IGN Italia, Jeuxvideo.com, GameCritics, Millenium, Everyeye.it, Riot Pixels, CD-Action, Worth Playing, WellPlayed, Impulsegamer, IGN, Ragequit.gr, Wccftech, Gamer Escape, meta_score, COGconnected, Softpedia, New Game Network, SpazioGames, TheGamer, PC Games, Multiplayer.it, GamingTrend, GameStar, PC Invasion, Hey Poor Player, Shacknews, TheSixthAxis, The Games Machine, Noisy Pixel, Eurogamer Italy, Checkpoint Gaming, Game Revolution, Washington Post, BaziCenter, Game Rant, Player 2, Hooked Gamers, Meristation, Finger Guns, Hardcore Gamer, Gamersky, IGN Italia, Jeuxvideo.com, GameCritics, Millenium, Everyeye.it, Riot Pixels, CD-Action, Worth Playing, WellPlayed, Impulsegamer, IGN, Ragequit.gr, Wccftech, Gamer Escape, meta_score, COGconnected, Softpedia, New Game Network, SpazioGames, TheGamer, PC Games, Multiplayer.it, GamingTrend, GameStar, PC Invasion, Hey Poor Player, Shacknews, TheSixthAxis, The Games Machine, Noisy Pixel, Eurogamer Italy, Checkpoint Gaming, Game Revolution, Washington Post, BaziCenter, Game Rant, Player 2, Hooked Gamers, Meristation, Finger Guns, Hardcore Gamer, Gamersky, IGN Italia, Jeuxvideo.com, GameCritics, Millenium, Everyeye.it, Riot Pixels, CD-Action, Worth Playing, WellPlayed, Impulsegamer, IGN, Ragequit.gr, Wccftech, Gamer Escape, meta_score, COGconnected, Softpedia, New Game Network, SpazioGames, TheGamer, PC Games, Multiplayer.it\"                                                                                                                                                                   \n",
            "[32] \"Washington Post, BaziCenter, Game Rant, Player 2, Hooked Gamers, Meristation, Finger Guns, Hardcore Gamer, Gamersky, IGN Italia, Jeuxvideo.com, GameCritics, Millenium, Everyeye.it, Riot Pixels, CD-Action, Worth Playing, WellPlayed, Impulsegamer, IGN, Ragequit.gr, Wccftech, Gamer Escape, meta_score, COGconnected, Softpedia, New Game Network, SpazioGames, TheGamer, PC Games, Multiplayer.it, GamingTrend, GameStar, PC Invasion, Hey Poor Player, Shacknews, TheSixthAxis, The Games Machine, Noisy Pixel, Eurogamer Italy, Checkpoint Gaming, Game Revolution, Washington Post, BaziCenter, Game Rant, Player 2, Hooked Gamers, Meristation, Finger Guns, Hardcore Gamer, Gamersky, IGN Italia, Jeuxvideo.com, GameCritics, Millenium, Everyeye.it, Riot Pixels, CD-Action, Worth Playing, WellPlayed, Impulsegamer, IGN, Ragequit.gr, Wccftech, Gamer Escape, meta_score, COGconnected, Softpedia, New Game Network, SpazioGames, TheGamer, PC Games, Multiplayer.it, GamingTrend, GameStar, PC Invasion, Hey Poor Player, Shacknews, TheSixthAxis, The Games Machine, Noisy Pixel, Eurogamer Italy, Checkpoint Gaming, Game Revolution, Washington Post, BaziCenter, Game Rant, Player 2, Hooked Gamers, Meristation, Finger Guns, Hardcore Gamer, Gamersky, IGN Italia, Jeuxvideo.com, GameCritics, Millenium, Everyeye.it, Riot Pixels, CD-Action, Worth Playing, WellPlayed, Impulsegamer, IGN, Ragequit.gr, Wccftech, Gamer Escape, meta_score, COGconnected, Softpedia, New Game Network, SpazioGames, TheGamer, PC Games, Multiplayer.it, GamingTrend, GameStar, PC Invasion, Hey Poor Player, Shacknews, TheSixthAxis, The Games Machine, Noisy Pixel, Eurogamer Italy, Checkpoint Gaming, Game Revolution, Washington Post, BaziCenter, Game Rant, Player 2, Hooked Gamers, Meristation, Finger Guns, Hardcore Gamer, Gamersky, IGN Italia, Jeuxvideo.com, GameCritics, Millenium, Everyeye.it, Riot Pixels, CD-Action, Worth Playing, WellPlayed, Impulsegamer, IGN, Ragequit.gr, Wccftech, Gamer Escape, meta_score, COGconnected, Softpedia, New Game Network, SpazioGames, TheGamer, PC Games, Multiplayer.it, GamingTrend, GameStar, PC Invasion, Hey Poor Player, Shacknews, TheSixthAxis, The Games Machine, Noisy Pixel, Eurogamer Italy, Checkpoint Gaming, Game Revolution, Washington Post, BaziCenter, Game Rant, Player 2, Hooked Gamers, Meristation, Finger Guns, Hardcore Gamer, Gamersky, IGN Italia, Jeuxvideo.com, GameCritics, Millenium, Everyeye.it, Riot Pixels, CD-Action, Worth Playing, WellPlayed, Impulsegamer, IGN, Ragequit.gr, Wccftech, Gamer Escape, meta_score, COGconnected, Softpedia, New Game Network, SpazioGames, TheGamer, PC Games, Multiplayer.it, GamingTrend\"                                                                                                                                                      \n",
            "[33] \"Washington Post, BaziCenter, Game Rant, Player 2, Hooked Gamers, Meristation, Finger Guns, Hardcore Gamer, Gamersky, IGN Italia, Jeuxvideo.com, GameCritics, Millenium, Everyeye.it, Riot Pixels, CD-Action, Worth Playing, WellPlayed, Impulsegamer, IGN, Ragequit.gr, Wccftech, Gamer Escape, meta_score, COGconnected, Softpedia, New Game Network, SpazioGames, TheGamer, PC Games, Multiplayer.it, GamingTrend, GameStar, PC Invasion, Hey Poor Player, Shacknews, TheSixthAxis, The Games Machine, Noisy Pixel, Eurogamer Italy, Checkpoint Gaming, Game Revolution, Washington Post, BaziCenter, Game Rant, Player 2, Hooked Gamers, Meristation, Finger Guns, Hardcore Gamer, Gamersky, IGN Italia, Jeuxvideo.com, GameCritics, Millenium, Everyeye.it, Riot Pixels, CD-Action, Worth Playing, WellPlayed, Impulsegamer, IGN, Ragequit.gr, Wccftech, Gamer Escape, meta_score, COGconnected, Softpedia, New Game Network, SpazioGames, TheGamer, PC Games, Multiplayer.it, GamingTrend, GameStar, PC Invasion, Hey Poor Player, Shacknews, TheSixthAxis, The Games Machine, Noisy Pixel, Eurogamer Italy, Checkpoint Gaming, Game Revolution, Washington Post, BaziCenter, Game Rant, Player 2, Hooked Gamers, Meristation, Finger Guns, Hardcore Gamer, Gamersky, IGN Italia, Jeuxvideo.com, GameCritics, Millenium, Everyeye.it, Riot Pixels, CD-Action, Worth Playing, WellPlayed, Impulsegamer, IGN, Ragequit.gr, Wccftech, Gamer Escape, meta_score, COGconnected, Softpedia, New Game Network, SpazioGames, TheGamer, PC Games, Multiplayer.it, GamingTrend, GameStar, PC Invasion, Hey Poor Player, Shacknews, TheSixthAxis, The Games Machine, Noisy Pixel, Eurogamer Italy, Checkpoint Gaming, Game Revolution, Washington Post, BaziCenter, Game Rant, Player 2, Hooked Gamers, Meristation, Finger Guns, Hardcore Gamer, Gamersky, IGN Italia, Jeuxvideo.com, GameCritics, Millenium, Everyeye.it, Riot Pixels, CD-Action, Worth Playing, WellPlayed, Impulsegamer, IGN, Ragequit.gr, Wccftech, Gamer Escape, meta_score, COGconnected, Softpedia, New Game Network, SpazioGames, TheGamer, PC Games, Multiplayer.it, GamingTrend, GameStar, PC Invasion, Hey Poor Player, Shacknews, TheSixthAxis, The Games Machine, Noisy Pixel, Eurogamer Italy, Checkpoint Gaming, Game Revolution, Washington Post, BaziCenter, Game Rant, Player 2, Hooked Gamers, Meristation, Finger Guns, Hardcore Gamer, Gamersky, IGN Italia, Jeuxvideo.com, GameCritics, Millenium, Everyeye.it, Riot Pixels, CD-Action, Worth Playing, WellPlayed, Impulsegamer, IGN, Ragequit.gr, Wccftech, Gamer Escape, meta_score, COGconnected, Softpedia, New Game Network, SpazioGames, TheGamer, PC Games, Multiplayer.it, GamingTrend, GameStar\"                                                                                                                                            \n",
            "[34] \"Washington Post, BaziCenter, Game Rant, Player 2, Hooked Gamers, Meristation, Finger Guns, Hardcore Gamer, Gamersky, IGN Italia, Jeuxvideo.com, GameCritics, Millenium, Everyeye.it, Riot Pixels, CD-Action, Worth Playing, WellPlayed, Impulsegamer, IGN, Ragequit.gr, Wccftech, Gamer Escape, meta_score, COGconnected, Softpedia, New Game Network, SpazioGames, TheGamer, PC Games, Multiplayer.it, GamingTrend, GameStar, PC Invasion, Hey Poor Player, Shacknews, TheSixthAxis, The Games Machine, Noisy Pixel, Eurogamer Italy, Checkpoint Gaming, Game Revolution, Washington Post, BaziCenter, Game Rant, Player 2, Hooked Gamers, Meristation, Finger Guns, Hardcore Gamer, Gamersky, IGN Italia, Jeuxvideo.com, GameCritics, Millenium, Everyeye.it, Riot Pixels, CD-Action, Worth Playing, WellPlayed, Impulsegamer, IGN, Ragequit.gr, Wccftech, Gamer Escape, meta_score, COGconnected, Softpedia, New Game Network, SpazioGames, TheGamer, PC Games, Multiplayer.it, GamingTrend, GameStar, PC Invasion, Hey Poor Player, Shacknews, TheSixthAxis, The Games Machine, Noisy Pixel, Eurogamer Italy, Checkpoint Gaming, Game Revolution, Washington Post, BaziCenter, Game Rant, Player 2, Hooked Gamers, Meristation, Finger Guns, Hardcore Gamer, Gamersky, IGN Italia, Jeuxvideo.com, GameCritics, Millenium, Everyeye.it, Riot Pixels, CD-Action, Worth Playing, WellPlayed, Impulsegamer, IGN, Ragequit.gr, Wccftech, Gamer Escape, meta_score, COGconnected, Softpedia, New Game Network, SpazioGames, TheGamer, PC Games, Multiplayer.it, GamingTrend, GameStar, PC Invasion, Hey Poor Player, Shacknews, TheSixthAxis, The Games Machine, Noisy Pixel, Eurogamer Italy, Checkpoint Gaming, Game Revolution, Washington Post, BaziCenter, Game Rant, Player 2, Hooked Gamers, Meristation, Finger Guns, Hardcore Gamer, Gamersky, IGN Italia, Jeuxvideo.com, GameCritics, Millenium, Everyeye.it, Riot Pixels, CD-Action, Worth Playing, WellPlayed, Impulsegamer, IGN, Ragequit.gr, Wccftech, Gamer Escape, meta_score, COGconnected, Softpedia, New Game Network, SpazioGames, TheGamer, PC Games, Multiplayer.it, GamingTrend, GameStar, PC Invasion, Hey Poor Player, Shacknews, TheSixthAxis, The Games Machine, Noisy Pixel, Eurogamer Italy, Checkpoint Gaming, Game Revolution, Washington Post, BaziCenter, Game Rant, Player 2, Hooked Gamers, Meristation, Finger Guns, Hardcore Gamer, Gamersky, IGN Italia, Jeuxvideo.com, GameCritics, Millenium, Everyeye.it, Riot Pixels, CD-Action, Worth Playing, WellPlayed, Impulsegamer, IGN, Ragequit.gr, Wccftech, Gamer Escape, meta_score, COGconnected, Softpedia, New Game Network, SpazioGames, TheGamer, PC Games, Multiplayer.it, GamingTrend, GameStar, PC Invasion\"                                                                                                                               \n",
            "[35] \"Washington Post, BaziCenter, Game Rant, Player 2, Hooked Gamers, Meristation, Finger Guns, Hardcore Gamer, Gamersky, IGN Italia, Jeuxvideo.com, GameCritics, Millenium, Everyeye.it, Riot Pixels, CD-Action, Worth Playing, WellPlayed, Impulsegamer, IGN, Ragequit.gr, Wccftech, Gamer Escape, meta_score, COGconnected, Softpedia, New Game Network, SpazioGames, TheGamer, PC Games, Multiplayer.it, GamingTrend, GameStar, PC Invasion, Hey Poor Player, Shacknews, TheSixthAxis, The Games Machine, Noisy Pixel, Eurogamer Italy, Checkpoint Gaming, Game Revolution, Washington Post, BaziCenter, Game Rant, Player 2, Hooked Gamers, Meristation, Finger Guns, Hardcore Gamer, Gamersky, IGN Italia, Jeuxvideo.com, GameCritics, Millenium, Everyeye.it, Riot Pixels, CD-Action, Worth Playing, WellPlayed, Impulsegamer, IGN, Ragequit.gr, Wccftech, Gamer Escape, meta_score, COGconnected, Softpedia, New Game Network, SpazioGames, TheGamer, PC Games, Multiplayer.it, GamingTrend, GameStar, PC Invasion, Hey Poor Player, Shacknews, TheSixthAxis, The Games Machine, Noisy Pixel, Eurogamer Italy, Checkpoint Gaming, Game Revolution, Washington Post, BaziCenter, Game Rant, Player 2, Hooked Gamers, Meristation, Finger Guns, Hardcore Gamer, Gamersky, IGN Italia, Jeuxvideo.com, GameCritics, Millenium, Everyeye.it, Riot Pixels, CD-Action, Worth Playing, WellPlayed, Impulsegamer, IGN, Ragequit.gr, Wccftech, Gamer Escape, meta_score, COGconnected, Softpedia, New Game Network, SpazioGames, TheGamer, PC Games, Multiplayer.it, GamingTrend, GameStar, PC Invasion, Hey Poor Player, Shacknews, TheSixthAxis, The Games Machine, Noisy Pixel, Eurogamer Italy, Checkpoint Gaming, Game Revolution, Washington Post, BaziCenter, Game Rant, Player 2, Hooked Gamers, Meristation, Finger Guns, Hardcore Gamer, Gamersky, IGN Italia, Jeuxvideo.com, GameCritics, Millenium, Everyeye.it, Riot Pixels, CD-Action, Worth Playing, WellPlayed, Impulsegamer, IGN, Ragequit.gr, Wccftech, Gamer Escape, meta_score, COGconnected, Softpedia, New Game Network, SpazioGames, TheGamer, PC Games, Multiplayer.it, GamingTrend, GameStar, PC Invasion, Hey Poor Player, Shacknews, TheSixthAxis, The Games Machine, Noisy Pixel, Eurogamer Italy, Checkpoint Gaming, Game Revolution, Washington Post, BaziCenter, Game Rant, Player 2, Hooked Gamers, Meristation, Finger Guns, Hardcore Gamer, Gamersky, IGN Italia, Jeuxvideo.com, GameCritics, Millenium, Everyeye.it, Riot Pixels, CD-Action, Worth Playing, WellPlayed, Impulsegamer, IGN, Ragequit.gr, Wccftech, Gamer Escape, meta_score, COGconnected, Softpedia, New Game Network, SpazioGames, TheGamer, PC Games, Multiplayer.it, GamingTrend, GameStar, PC Invasion, Hey Poor Player\"                                                                                                              \n",
            "[36] \"Washington Post, BaziCenter, Game Rant, Player 2, Hooked Gamers, Meristation, Finger Guns, Hardcore Gamer, Gamersky, IGN Italia, Jeuxvideo.com, GameCritics, Millenium, Everyeye.it, Riot Pixels, CD-Action, Worth Playing, WellPlayed, Impulsegamer, IGN, Ragequit.gr, Wccftech, Gamer Escape, meta_score, COGconnected, Softpedia, New Game Network, SpazioGames, TheGamer, PC Games, Multiplayer.it, GamingTrend, GameStar, PC Invasion, Hey Poor Player, Shacknews, TheSixthAxis, The Games Machine, Noisy Pixel, Eurogamer Italy, Checkpoint Gaming, Game Revolution, Washington Post, BaziCenter, Game Rant, Player 2, Hooked Gamers, Meristation, Finger Guns, Hardcore Gamer, Gamersky, IGN Italia, Jeuxvideo.com, GameCritics, Millenium, Everyeye.it, Riot Pixels, CD-Action, Worth Playing, WellPlayed, Impulsegamer, IGN, Ragequit.gr, Wccftech, Gamer Escape, meta_score, COGconnected, Softpedia, New Game Network, SpazioGames, TheGamer, PC Games, Multiplayer.it, GamingTrend, GameStar, PC Invasion, Hey Poor Player, Shacknews, TheSixthAxis, The Games Machine, Noisy Pixel, Eurogamer Italy, Checkpoint Gaming, Game Revolution, Washington Post, BaziCenter, Game Rant, Player 2, Hooked Gamers, Meristation, Finger Guns, Hardcore Gamer, Gamersky, IGN Italia, Jeuxvideo.com, GameCritics, Millenium, Everyeye.it, Riot Pixels, CD-Action, Worth Playing, WellPlayed, Impulsegamer, IGN, Ragequit.gr, Wccftech, Gamer Escape, meta_score, COGconnected, Softpedia, New Game Network, SpazioGames, TheGamer, PC Games, Multiplayer.it, GamingTrend, GameStar, PC Invasion, Hey Poor Player, Shacknews, TheSixthAxis, The Games Machine, Noisy Pixel, Eurogamer Italy, Checkpoint Gaming, Game Revolution, Washington Post, BaziCenter, Game Rant, Player 2, Hooked Gamers, Meristation, Finger Guns, Hardcore Gamer, Gamersky, IGN Italia, Jeuxvideo.com, GameCritics, Millenium, Everyeye.it, Riot Pixels, CD-Action, Worth Playing, WellPlayed, Impulsegamer, IGN, Ragequit.gr, Wccftech, Gamer Escape, meta_score, COGconnected, Softpedia, New Game Network, SpazioGames, TheGamer, PC Games, Multiplayer.it, GamingTrend, GameStar, PC Invasion, Hey Poor Player, Shacknews, TheSixthAxis, The Games Machine, Noisy Pixel, Eurogamer Italy, Checkpoint Gaming, Game Revolution, Washington Post, BaziCenter, Game Rant, Player 2, Hooked Gamers, Meristation, Finger Guns, Hardcore Gamer, Gamersky, IGN Italia, Jeuxvideo.com, GameCritics, Millenium, Everyeye.it, Riot Pixels, CD-Action, Worth Playing, WellPlayed, Impulsegamer, IGN, Ragequit.gr, Wccftech, Gamer Escape, meta_score, COGconnected, Softpedia, New Game Network, SpazioGames, TheGamer, PC Games, Multiplayer.it, GamingTrend, GameStar, PC Invasion, Hey Poor Player, Shacknews\"                                                                                                   \n",
            "[37] \"Washington Post, BaziCenter, Game Rant, Player 2, Hooked Gamers, Meristation, Finger Guns, Hardcore Gamer, Gamersky, IGN Italia, Jeuxvideo.com, GameCritics, Millenium, Everyeye.it, Riot Pixels, CD-Action, Worth Playing, WellPlayed, Impulsegamer, IGN, Ragequit.gr, Wccftech, Gamer Escape, meta_score, COGconnected, Softpedia, New Game Network, SpazioGames, TheGamer, PC Games, Multiplayer.it, GamingTrend, GameStar, PC Invasion, Hey Poor Player, Shacknews, TheSixthAxis, The Games Machine, Noisy Pixel, Eurogamer Italy, Checkpoint Gaming, Game Revolution, Washington Post, BaziCenter, Game Rant, Player 2, Hooked Gamers, Meristation, Finger Guns, Hardcore Gamer, Gamersky, IGN Italia, Jeuxvideo.com, GameCritics, Millenium, Everyeye.it, Riot Pixels, CD-Action, Worth Playing, WellPlayed, Impulsegamer, IGN, Ragequit.gr, Wccftech, Gamer Escape, meta_score, COGconnected, Softpedia, New Game Network, SpazioGames, TheGamer, PC Games, Multiplayer.it, GamingTrend, GameStar, PC Invasion, Hey Poor Player, Shacknews, TheSixthAxis, The Games Machine, Noisy Pixel, Eurogamer Italy, Checkpoint Gaming, Game Revolution, Washington Post, BaziCenter, Game Rant, Player 2, Hooked Gamers, Meristation, Finger Guns, Hardcore Gamer, Gamersky, IGN Italia, Jeuxvideo.com, GameCritics, Millenium, Everyeye.it, Riot Pixels, CD-Action, Worth Playing, WellPlayed, Impulsegamer, IGN, Ragequit.gr, Wccftech, Gamer Escape, meta_score, COGconnected, Softpedia, New Game Network, SpazioGames, TheGamer, PC Games, Multiplayer.it, GamingTrend, GameStar, PC Invasion, Hey Poor Player, Shacknews, TheSixthAxis, The Games Machine, Noisy Pixel, Eurogamer Italy, Checkpoint Gaming, Game Revolution, Washington Post, BaziCenter, Game Rant, Player 2, Hooked Gamers, Meristation, Finger Guns, Hardcore Gamer, Gamersky, IGN Italia, Jeuxvideo.com, GameCritics, Millenium, Everyeye.it, Riot Pixels, CD-Action, Worth Playing, WellPlayed, Impulsegamer, IGN, Ragequit.gr, Wccftech, Gamer Escape, meta_score, COGconnected, Softpedia, New Game Network, SpazioGames, TheGamer, PC Games, Multiplayer.it, GamingTrend, GameStar, PC Invasion, Hey Poor Player, Shacknews, TheSixthAxis, The Games Machine, Noisy Pixel, Eurogamer Italy, Checkpoint Gaming, Game Revolution, Washington Post, BaziCenter, Game Rant, Player 2, Hooked Gamers, Meristation, Finger Guns, Hardcore Gamer, Gamersky, IGN Italia, Jeuxvideo.com, GameCritics, Millenium, Everyeye.it, Riot Pixels, CD-Action, Worth Playing, WellPlayed, Impulsegamer, IGN, Ragequit.gr, Wccftech, Gamer Escape, meta_score, COGconnected, Softpedia, New Game Network, SpazioGames, TheGamer, PC Games, Multiplayer.it, GamingTrend, GameStar, PC Invasion, Hey Poor Player, Shacknews, TheSixthAxis\"                                                                                     \n",
            "[38] \"Washington Post, BaziCenter, Game Rant, Player 2, Hooked Gamers, Meristation, Finger Guns, Hardcore Gamer, Gamersky, IGN Italia, Jeuxvideo.com, GameCritics, Millenium, Everyeye.it, Riot Pixels, CD-Action, Worth Playing, WellPlayed, Impulsegamer, IGN, Ragequit.gr, Wccftech, Gamer Escape, meta_score, COGconnected, Softpedia, New Game Network, SpazioGames, TheGamer, PC Games, Multiplayer.it, GamingTrend, GameStar, PC Invasion, Hey Poor Player, Shacknews, TheSixthAxis, The Games Machine, Noisy Pixel, Eurogamer Italy, Checkpoint Gaming, Game Revolution, Washington Post, BaziCenter, Game Rant, Player 2, Hooked Gamers, Meristation, Finger Guns, Hardcore Gamer, Gamersky, IGN Italia, Jeuxvideo.com, GameCritics, Millenium, Everyeye.it, Riot Pixels, CD-Action, Worth Playing, WellPlayed, Impulsegamer, IGN, Ragequit.gr, Wccftech, Gamer Escape, meta_score, COGconnected, Softpedia, New Game Network, SpazioGames, TheGamer, PC Games, Multiplayer.it, GamingTrend, GameStar, PC Invasion, Hey Poor Player, Shacknews, TheSixthAxis, The Games Machine, Noisy Pixel, Eurogamer Italy, Checkpoint Gaming, Game Revolution, Washington Post, BaziCenter, Game Rant, Player 2, Hooked Gamers, Meristation, Finger Guns, Hardcore Gamer, Gamersky, IGN Italia, Jeuxvideo.com, GameCritics, Millenium, Everyeye.it, Riot Pixels, CD-Action, Worth Playing, WellPlayed, Impulsegamer, IGN, Ragequit.gr, Wccftech, Gamer Escape, meta_score, COGconnected, Softpedia, New Game Network, SpazioGames, TheGamer, PC Games, Multiplayer.it, GamingTrend, GameStar, PC Invasion, Hey Poor Player, Shacknews, TheSixthAxis, The Games Machine, Noisy Pixel, Eurogamer Italy, Checkpoint Gaming, Game Revolution, Washington Post, BaziCenter, Game Rant, Player 2, Hooked Gamers, Meristation, Finger Guns, Hardcore Gamer, Gamersky, IGN Italia, Jeuxvideo.com, GameCritics, Millenium, Everyeye.it, Riot Pixels, CD-Action, Worth Playing, WellPlayed, Impulsegamer, IGN, Ragequit.gr, Wccftech, Gamer Escape, meta_score, COGconnected, Softpedia, New Game Network, SpazioGames, TheGamer, PC Games, Multiplayer.it, GamingTrend, GameStar, PC Invasion, Hey Poor Player, Shacknews, TheSixthAxis, The Games Machine, Noisy Pixel, Eurogamer Italy, Checkpoint Gaming, Game Revolution, Washington Post, BaziCenter, Game Rant, Player 2, Hooked Gamers, Meristation, Finger Guns, Hardcore Gamer, Gamersky, IGN Italia, Jeuxvideo.com, GameCritics, Millenium, Everyeye.it, Riot Pixels, CD-Action, Worth Playing, WellPlayed, Impulsegamer, IGN, Ragequit.gr, Wccftech, Gamer Escape, meta_score, COGconnected, Softpedia, New Game Network, SpazioGames, TheGamer, PC Games, Multiplayer.it, GamingTrend, GameStar, PC Invasion, Hey Poor Player, Shacknews, TheSixthAxis, The Games Machine\"                                                                  \n",
            "[39] \"Washington Post, BaziCenter, Game Rant, Player 2, Hooked Gamers, Meristation, Finger Guns, Hardcore Gamer, Gamersky, IGN Italia, Jeuxvideo.com, GameCritics, Millenium, Everyeye.it, Riot Pixels, CD-Action, Worth Playing, WellPlayed, Impulsegamer, IGN, Ragequit.gr, Wccftech, Gamer Escape, meta_score, COGconnected, Softpedia, New Game Network, SpazioGames, TheGamer, PC Games, Multiplayer.it, GamingTrend, GameStar, PC Invasion, Hey Poor Player, Shacknews, TheSixthAxis, The Games Machine, Noisy Pixel, Eurogamer Italy, Checkpoint Gaming, Game Revolution, Washington Post, BaziCenter, Game Rant, Player 2, Hooked Gamers, Meristation, Finger Guns, Hardcore Gamer, Gamersky, IGN Italia, Jeuxvideo.com, GameCritics, Millenium, Everyeye.it, Riot Pixels, CD-Action, Worth Playing, WellPlayed, Impulsegamer, IGN, Ragequit.gr, Wccftech, Gamer Escape, meta_score, COGconnected, Softpedia, New Game Network, SpazioGames, TheGamer, PC Games, Multiplayer.it, GamingTrend, GameStar, PC Invasion, Hey Poor Player, Shacknews, TheSixthAxis, The Games Machine, Noisy Pixel, Eurogamer Italy, Checkpoint Gaming, Game Revolution, Washington Post, BaziCenter, Game Rant, Player 2, Hooked Gamers, Meristation, Finger Guns, Hardcore Gamer, Gamersky, IGN Italia, Jeuxvideo.com, GameCritics, Millenium, Everyeye.it, Riot Pixels, CD-Action, Worth Playing, WellPlayed, Impulsegamer, IGN, Ragequit.gr, Wccftech, Gamer Escape, meta_score, COGconnected, Softpedia, New Game Network, SpazioGames, TheGamer, PC Games, Multiplayer.it, GamingTrend, GameStar, PC Invasion, Hey Poor Player, Shacknews, TheSixthAxis, The Games Machine, Noisy Pixel, Eurogamer Italy, Checkpoint Gaming, Game Revolution, Washington Post, BaziCenter, Game Rant, Player 2, Hooked Gamers, Meristation, Finger Guns, Hardcore Gamer, Gamersky, IGN Italia, Jeuxvideo.com, GameCritics, Millenium, Everyeye.it, Riot Pixels, CD-Action, Worth Playing, WellPlayed, Impulsegamer, IGN, Ragequit.gr, Wccftech, Gamer Escape, meta_score, COGconnected, Softpedia, New Game Network, SpazioGames, TheGamer, PC Games, Multiplayer.it, GamingTrend, GameStar, PC Invasion, Hey Poor Player, Shacknews, TheSixthAxis, The Games Machine, Noisy Pixel, Eurogamer Italy, Checkpoint Gaming, Game Revolution, Washington Post, BaziCenter, Game Rant, Player 2, Hooked Gamers, Meristation, Finger Guns, Hardcore Gamer, Gamersky, IGN Italia, Jeuxvideo.com, GameCritics, Millenium, Everyeye.it, Riot Pixels, CD-Action, Worth Playing, WellPlayed, Impulsegamer, IGN, Ragequit.gr, Wccftech, Gamer Escape, meta_score, COGconnected, Softpedia, New Game Network, SpazioGames, TheGamer, PC Games, Multiplayer.it, GamingTrend, GameStar, PC Invasion, Hey Poor Player, Shacknews, TheSixthAxis, The Games Machine, Noisy Pixel\"                                                     \n",
            "[40] \"Washington Post, BaziCenter, Game Rant, Player 2, Hooked Gamers, Meristation, Finger Guns, Hardcore Gamer, Gamersky, IGN Italia, Jeuxvideo.com, GameCritics, Millenium, Everyeye.it, Riot Pixels, CD-Action, Worth Playing, WellPlayed, Impulsegamer, IGN, Ragequit.gr, Wccftech, Gamer Escape, meta_score, COGconnected, Softpedia, New Game Network, SpazioGames, TheGamer, PC Games, Multiplayer.it, GamingTrend, GameStar, PC Invasion, Hey Poor Player, Shacknews, TheSixthAxis, The Games Machine, Noisy Pixel, Eurogamer Italy, Checkpoint Gaming, Game Revolution, Washington Post, BaziCenter, Game Rant, Player 2, Hooked Gamers, Meristation, Finger Guns, Hardcore Gamer, Gamersky, IGN Italia, Jeuxvideo.com, GameCritics, Millenium, Everyeye.it, Riot Pixels, CD-Action, Worth Playing, WellPlayed, Impulsegamer, IGN, Ragequit.gr, Wccftech, Gamer Escape, meta_score, COGconnected, Softpedia, New Game Network, SpazioGames, TheGamer, PC Games, Multiplayer.it, GamingTrend, GameStar, PC Invasion, Hey Poor Player, Shacknews, TheSixthAxis, The Games Machine, Noisy Pixel, Eurogamer Italy, Checkpoint Gaming, Game Revolution, Washington Post, BaziCenter, Game Rant, Player 2, Hooked Gamers, Meristation, Finger Guns, Hardcore Gamer, Gamersky, IGN Italia, Jeuxvideo.com, GameCritics, Millenium, Everyeye.it, Riot Pixels, CD-Action, Worth Playing, WellPlayed, Impulsegamer, IGN, Ragequit.gr, Wccftech, Gamer Escape, meta_score, COGconnected, Softpedia, New Game Network, SpazioGames, TheGamer, PC Games, Multiplayer.it, GamingTrend, GameStar, PC Invasion, Hey Poor Player, Shacknews, TheSixthAxis, The Games Machine, Noisy Pixel, Eurogamer Italy, Checkpoint Gaming, Game Revolution, Washington Post, BaziCenter, Game Rant, Player 2, Hooked Gamers, Meristation, Finger Guns, Hardcore Gamer, Gamersky, IGN Italia, Jeuxvideo.com, GameCritics, Millenium, Everyeye.it, Riot Pixels, CD-Action, Worth Playing, WellPlayed, Impulsegamer, IGN, Ragequit.gr, Wccftech, Gamer Escape, meta_score, COGconnected, Softpedia, New Game Network, SpazioGames, TheGamer, PC Games, Multiplayer.it, GamingTrend, GameStar, PC Invasion, Hey Poor Player, Shacknews, TheSixthAxis, The Games Machine, Noisy Pixel, Eurogamer Italy, Checkpoint Gaming, Game Revolution, Washington Post, BaziCenter, Game Rant, Player 2, Hooked Gamers, Meristation, Finger Guns, Hardcore Gamer, Gamersky, IGN Italia, Jeuxvideo.com, GameCritics, Millenium, Everyeye.it, Riot Pixels, CD-Action, Worth Playing, WellPlayed, Impulsegamer, IGN, Ragequit.gr, Wccftech, Gamer Escape, meta_score, COGconnected, Softpedia, New Game Network, SpazioGames, TheGamer, PC Games, Multiplayer.it, GamingTrend, GameStar, PC Invasion, Hey Poor Player, Shacknews, TheSixthAxis, The Games Machine, Noisy Pixel, Eurogamer Italy\"                                    \n",
            "[41] \"Washington Post, BaziCenter, Game Rant, Player 2, Hooked Gamers, Meristation, Finger Guns, Hardcore Gamer, Gamersky, IGN Italia, Jeuxvideo.com, GameCritics, Millenium, Everyeye.it, Riot Pixels, CD-Action, Worth Playing, WellPlayed, Impulsegamer, IGN, Ragequit.gr, Wccftech, Gamer Escape, meta_score, COGconnected, Softpedia, New Game Network, SpazioGames, TheGamer, PC Games, Multiplayer.it, GamingTrend, GameStar, PC Invasion, Hey Poor Player, Shacknews, TheSixthAxis, The Games Machine, Noisy Pixel, Eurogamer Italy, Checkpoint Gaming, Game Revolution, Washington Post, BaziCenter, Game Rant, Player 2, Hooked Gamers, Meristation, Finger Guns, Hardcore Gamer, Gamersky, IGN Italia, Jeuxvideo.com, GameCritics, Millenium, Everyeye.it, Riot Pixels, CD-Action, Worth Playing, WellPlayed, Impulsegamer, IGN, Ragequit.gr, Wccftech, Gamer Escape, meta_score, COGconnected, Softpedia, New Game Network, SpazioGames, TheGamer, PC Games, Multiplayer.it, GamingTrend, GameStar, PC Invasion, Hey Poor Player, Shacknews, TheSixthAxis, The Games Machine, Noisy Pixel, Eurogamer Italy, Checkpoint Gaming, Game Revolution, Washington Post, BaziCenter, Game Rant, Player 2, Hooked Gamers, Meristation, Finger Guns, Hardcore Gamer, Gamersky, IGN Italia, Jeuxvideo.com, GameCritics, Millenium, Everyeye.it, Riot Pixels, CD-Action, Worth Playing, WellPlayed, Impulsegamer, IGN, Ragequit.gr, Wccftech, Gamer Escape, meta_score, COGconnected, Softpedia, New Game Network, SpazioGames, TheGamer, PC Games, Multiplayer.it, GamingTrend, GameStar, PC Invasion, Hey Poor Player, Shacknews, TheSixthAxis, The Games Machine, Noisy Pixel, Eurogamer Italy, Checkpoint Gaming, Game Revolution, Washington Post, BaziCenter, Game Rant, Player 2, Hooked Gamers, Meristation, Finger Guns, Hardcore Gamer, Gamersky, IGN Italia, Jeuxvideo.com, GameCritics, Millenium, Everyeye.it, Riot Pixels, CD-Action, Worth Playing, WellPlayed, Impulsegamer, IGN, Ragequit.gr, Wccftech, Gamer Escape, meta_score, COGconnected, Softpedia, New Game Network, SpazioGames, TheGamer, PC Games, Multiplayer.it, GamingTrend, GameStar, PC Invasion, Hey Poor Player, Shacknews, TheSixthAxis, The Games Machine, Noisy Pixel, Eurogamer Italy, Checkpoint Gaming, Game Revolution, Washington Post, BaziCenter, Game Rant, Player 2, Hooked Gamers, Meristation, Finger Guns, Hardcore Gamer, Gamersky, IGN Italia, Jeuxvideo.com, GameCritics, Millenium, Everyeye.it, Riot Pixels, CD-Action, Worth Playing, WellPlayed, Impulsegamer, IGN, Ragequit.gr, Wccftech, Gamer Escape, meta_score, COGconnected, Softpedia, New Game Network, SpazioGames, TheGamer, PC Games, Multiplayer.it, GamingTrend, GameStar, PC Invasion, Hey Poor Player, Shacknews, TheSixthAxis, The Games Machine, Noisy Pixel, Eurogamer Italy, Checkpoint Gaming\"                 \n",
            "[42] \"Washington Post, BaziCenter, Game Rant, Player 2, Hooked Gamers, Meristation, Finger Guns, Hardcore Gamer, Gamersky, IGN Italia, Jeuxvideo.com, GameCritics, Millenium, Everyeye.it, Riot Pixels, CD-Action, Worth Playing, WellPlayed, Impulsegamer, IGN, Ragequit.gr, Wccftech, Gamer Escape, meta_score, COGconnected, Softpedia, New Game Network, SpazioGames, TheGamer, PC Games, Multiplayer.it, GamingTrend, GameStar, PC Invasion, Hey Poor Player, Shacknews, TheSixthAxis, The Games Machine, Noisy Pixel, Eurogamer Italy, Checkpoint Gaming, Game Revolution, Washington Post, BaziCenter, Game Rant, Player 2, Hooked Gamers, Meristation, Finger Guns, Hardcore Gamer, Gamersky, IGN Italia, Jeuxvideo.com, GameCritics, Millenium, Everyeye.it, Riot Pixels, CD-Action, Worth Playing, WellPlayed, Impulsegamer, IGN, Ragequit.gr, Wccftech, Gamer Escape, meta_score, COGconnected, Softpedia, New Game Network, SpazioGames, TheGamer, PC Games, Multiplayer.it, GamingTrend, GameStar, PC Invasion, Hey Poor Player, Shacknews, TheSixthAxis, The Games Machine, Noisy Pixel, Eurogamer Italy, Checkpoint Gaming, Game Revolution, Washington Post, BaziCenter, Game Rant, Player 2, Hooked Gamers, Meristation, Finger Guns, Hardcore Gamer, Gamersky, IGN Italia, Jeuxvideo.com, GameCritics, Millenium, Everyeye.it, Riot Pixels, CD-Action, Worth Playing, WellPlayed, Impulsegamer, IGN, Ragequit.gr, Wccftech, Gamer Escape, meta_score, COGconnected, Softpedia, New Game Network, SpazioGames, TheGamer, PC Games, Multiplayer.it, GamingTrend, GameStar, PC Invasion, Hey Poor Player, Shacknews, TheSixthAxis, The Games Machine, Noisy Pixel, Eurogamer Italy, Checkpoint Gaming, Game Revolution, Washington Post, BaziCenter, Game Rant, Player 2, Hooked Gamers, Meristation, Finger Guns, Hardcore Gamer, Gamersky, IGN Italia, Jeuxvideo.com, GameCritics, Millenium, Everyeye.it, Riot Pixels, CD-Action, Worth Playing, WellPlayed, Impulsegamer, IGN, Ragequit.gr, Wccftech, Gamer Escape, meta_score, COGconnected, Softpedia, New Game Network, SpazioGames, TheGamer, PC Games, Multiplayer.it, GamingTrend, GameStar, PC Invasion, Hey Poor Player, Shacknews, TheSixthAxis, The Games Machine, Noisy Pixel, Eurogamer Italy, Checkpoint Gaming, Game Revolution, Washington Post, BaziCenter, Game Rant, Player 2, Hooked Gamers, Meristation, Finger Guns, Hardcore Gamer, Gamersky, IGN Italia, Jeuxvideo.com, GameCritics, Millenium, Everyeye.it, Riot Pixels, CD-Action, Worth Playing, WellPlayed, Impulsegamer, IGN, Ragequit.gr, Wccftech, Gamer Escape, meta_score, COGconnected, Softpedia, New Game Network, SpazioGames, TheGamer, PC Games, Multiplayer.it, GamingTrend, GameStar, PC Invasion, Hey Poor Player, Shacknews, TheSixthAxis, The Games Machine, Noisy Pixel, Eurogamer Italy, Checkpoint Gaming, Game Revolution\"\n"
          ]
        }
      ]
    },
    {
      "cell_type": "code",
      "execution_count": null,
      "metadata": {
        "colab": {
          "base_uri": "https://localhost:8080/"
        },
        "id": "zNigweFrD_MX",
        "outputId": "d109b061-7cf8-4100-cc8c-58d6b85a35c6"
      },
      "outputs": [
        {
          "output_type": "stream",
          "name": "stdout",
          "text": [
            "          variable_v\n",
            "1    Washington Post\n",
            "2         BaziCenter\n",
            "3          Game Rant\n",
            "4           Player 2\n",
            "5      Hooked Gamers\n",
            "6        Meristation\n",
            "7        Finger Guns\n",
            "8     Hardcore Gamer\n",
            "9           Gamersky\n",
            "10        IGN Italia\n",
            "11     Jeuxvideo.com\n",
            "12       GameCritics\n",
            "13         Millenium\n",
            "14       Everyeye.it\n",
            "15       Riot Pixels\n",
            "16         CD-Action\n",
            "17     Worth Playing\n",
            "18        WellPlayed\n",
            "19      Impulsegamer\n",
            "20               IGN\n",
            "21       Ragequit.gr\n",
            "22          Wccftech\n",
            "23      Gamer Escape\n",
            "24        meta_score\n",
            "25      COGconnected\n",
            "26         Softpedia\n",
            "27  New Game Network\n",
            "28       SpazioGames\n",
            "29          TheGamer\n",
            "30          PC Games\n",
            "31    Multiplayer.it\n",
            "32       GamingTrend\n",
            "33          GameStar\n",
            "34       PC Invasion\n",
            "35   Hey Poor Player\n",
            "36         Shacknews\n",
            "37      TheSixthAxis\n",
            "38 The Games Machine\n",
            "39       Noisy Pixel\n",
            "40   Eurogamer Italy\n",
            "41 Checkpoint Gaming\n",
            "42   Game Revolution\n"
          ]
        }
      ],
      "source": [
        "%%R\n",
        "i <- 1\n",
        "\n",
        "variable_v <- c()\n",
        "for (variable in df$variable){\n",
        "    variable_v <- append(variable_v, variable)\n",
        "}\n",
        "dfv <- data.frame(variable_v) %>%\n",
        "print()"
      ]
    },
    {
      "cell_type": "code",
      "source": [
        "%%R\n",
        "\n",
        "sig <- c()\n",
        "i <- 1\n",
        "\n",
        "for (variable in df$variable){\n",
        "    sig <- append(sig, variable)\n",
        "}\n",
        "\n",
        "\n",
        "df2 <- data.frame(sig) %>%\n",
        "rename(!!df$variable[1]:= sig) %>%\n",
        "print()"
      ],
      "metadata": {
        "id": "mxnrDdkDWt4k"
      },
      "execution_count": null,
      "outputs": []
    },
    {
      "cell_type": "code",
      "execution_count": null,
      "metadata": {
        "id": "Ljq4X7iHHamH"
      },
      "outputs": [],
      "source": [
        "%%R\n",
        "\n",
        "tibble_row(x\n",
        "  .name_repair = c(\"check_unique\", \"unique\", \"universal\", \"minimal\")\n",
        ")"
      ]
    },
    {
      "cell_type": "markdown",
      "metadata": {
        "id": "snbCvazvDfp4"
      },
      "source": [
        "##### Debugging Tool's"
      ]
    },
    {
      "cell_type": "code",
      "execution_count": null,
      "metadata": {
        "id": "uhQbOHddDfp5"
      },
      "outputs": [],
      "source": [
        "with pd.option_context('display.max_rows', None, 'display.max_columns', None):  # more options can be specified also\n",
        "    print(df.dtypes)"
      ]
    }
  ],
  "metadata": {
    "colab": {
      "name": "analysis.ipynb",
      "provenance": [],
      "include_colab_link": true
    },
    "interpreter": {
      "hash": "e2796faf60910d87d6168eb56032c09c898ea84b2faa0edd7ccaf174ad9c8c25"
    },
    "kernelspec": {
      "display_name": "Python 3.9.7 64-bit ('base': conda)",
      "language": "python",
      "name": "python3"
    },
    "language_info": {
      "codemirror_mode": {
        "name": "ipython",
        "version": 3
      },
      "file_extension": ".py",
      "mimetype": "text/x-python",
      "name": "python",
      "nbconvert_exporter": "python",
      "pygments_lexer": "ipython3",
      "version": "3.9.7"
    },
    "orig_nbformat": 4
  },
  "nbformat": 4,
  "nbformat_minor": 0
}